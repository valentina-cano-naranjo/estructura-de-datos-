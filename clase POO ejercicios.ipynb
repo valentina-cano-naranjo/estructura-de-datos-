{
 "cells": [
  {
   "cell_type": "markdown",
   "metadata": {},
   "source": [
    "Hay un coche con una capacidad de asientos vacíos. El vehículo solo conduce hacia el este (es decir, no puede dar la vuelta y conducir hacia el oeste).\n",
    "\n",
    "Se te da el entero capacity y un array trips donde trips[i] = [numPassengersi, fromi, toi] indica que el viaje i tiene numPassengersi pasajeros y las ubicaciones para recogerlos y dejarlos son fromi y toi, respectivamente. Las ubicaciones se dan como el número de kilómetros hacia el este desde la ubicación inicial del coche.\n",
    "\n",
    "Devuelve true si es posible recoger y dejar a todos los pasajeros para todos los viajes dados, o false en caso contrario."
   ]
  },
  {
   "cell_type": "code",
   "execution_count": 3,
   "metadata": {},
   "outputs": [
    {
     "name": "stdout",
     "output_type": "stream",
     "text": [
      "False\n",
      "True\n"
     ]
    }
   ],
   "source": [
    "from typing import List\n",
    "class Solution:\n",
    "    def carPooling(self, trips: List[List[int]], capacity: int) -> bool:\n",
    "        events=[]\n",
    "        #crear una lista de eventos: recogida y bajada de pasajeros\n",
    "        for trip in trips:\n",
    "            numPassengers, start, end = trip\n",
    "            events.append((start, numPassengers)) #recogida de pasajeros\n",
    "            events.append((end, -numPassengers))   #bajada de pasajeros\n",
    "            \n",
    "        #ordenar los eventos por la ubicación\n",
    "        events.sort()\n",
    "        \n",
    "        current_passengers=0\n",
    "        \n",
    "        #recorrer los eventos sumando y restando pasajeros\n",
    "        for location, passenger_change in events:\n",
    "            current_passengers += passenger_change\n",
    "            if current_passengers > capacity:\n",
    "                return False\n",
    "            \n",
    "        return True\n",
    "    \n",
    "sol = Solution()\n",
    "trips = [[2,1,5],[3,3,7]]\n",
    "capacity = 4\n",
    "print(sol.carPooling(trips, capacity)) #False\n",
    "\n",
    "trips2=[[2,1,5],[3,3,7]]\n",
    "capacity2=5\n",
    "print(sol.carPooling(trips2, capacity2)) #True\n",
    "\n",
    "        \n",
    "        "
   ]
  },
  {
   "cell_type": "markdown",
   "metadata": {},
   "source": [
    "Vamos a crear un sistema simple de gestión para una biblioteca. Tendremos una clase principal llamada Library, que contendrá una lista de libros (Book). Cada libro tendrá atributos como título, autor, y estado (disponible o prestado). La clase Library tendrá métodos para agregar libros, buscar libros, prestar libros, y devolver libros."
   ]
  },
  {
   "cell_type": "markdown",
   "metadata": {},
   "source": [
    "+-------------------+\n",
    "|      Library      |\n",
    "+-------------------+\n",
    "| - name: str       |\n",
    "| - books: List[Book]|\n",
    "+-------------------+\n",
    "| + __init__(name: str) |\n",
    "| + add_book(book: Book) |\n",
    "| + search_book_by_title(title: str) -> Book |\n",
    "| + lend_book(title: str) -> bool |\n",
    "| + return_book(title: str) -> bool |\n",
    "| + display_books() -> None |\n",
    "+-------------------+\n",
    "\n",
    "+-------------------+\n",
    "|       Book        |\n",
    "+-------------------+\n",
    "| - title: str      |\n",
    "| - author: str     |\n",
    "| - is_available: bool |\n",
    "+-------------------+\n",
    "| + __init__(title: str, author: str) |\n",
    "| + borrow() -> None                  |\n",
    "| + return_book() -> None             |\n",
    "| + __str__() -> str                  |\n",
    "+-------------------+\n"
   ]
  },
  {
   "cell_type": "code",
   "execution_count": 31,
   "metadata": {},
   "outputs": [],
   "source": [
    "\n",
    "class Book:\n",
    "    def __init__(self, title:str, author:str):\n",
    "        self.title=title\n",
    "        self.author=author\n",
    "        self.is_available=True\n",
    "\n",
    "    def borrow(self) -> None:\n",
    "        if self.is_available:\n",
    "            self.is_available=False\n",
    "            print(f'el libro {self.title} ha sido prestado')\n",
    "        else:\n",
    "            print(f'el libro {self.title} no esta disponible')\n",
    "    \n",
    "    def return_book(self) -> None:\n",
    "        self.is_available=True\n",
    "        print(f'el libro {self.title} ha sido devuelto')\n",
    "        \n",
    "    def __str__(self) -> str:\n",
    "        status = 'disponible' if self.is_available else 'prestado'\n",
    "        return f'{self.title} por {self.author} - {status}'\n",
    "\n",
    "class Library:\n",
    "    def __init__ (self,name:str):\n",
    "        self.name=name\n",
    "        self.books= []\n",
    "        \n",
    "    def add_book(self, book :Book) -> None:\n",
    "        self.books.append(book)\n",
    "        print(f'agregado\"{book.title} por {book.author} a la bilbioteca')\n",
    "    \n",
    "    def search_book_by_title(self, title:str) -> Book:\n",
    "        for book in self.books:\n",
    "            if book.title == title:\n",
    "                return book\n",
    "        return None\n",
    "    \n",
    "    def lend_book(self, title:str) -> bool:\n",
    "        book=self.search_book_by_title(title)\n",
    "        if book:\n",
    "            if book.is_available:\n",
    "                book.borrow()\n",
    "                return True\n",
    "            else:\n",
    "                print(f'el libro {title} no esta disponible')\n",
    "        else: \n",
    "            print(f'el libro {title} no esta en la biblioteca')\n",
    "            \n",
    "        return False\n",
    "    \n",
    "    def return_book(self, title:str) -> bool:\n",
    "        book=self.search_book_by_title(title)\n",
    "        if book:\n",
    "            if not book.is_available:\n",
    "                book.return_book()\n",
    "                return True\n",
    "            else:\n",
    "                print(f'el libro {title} no esta prestado')\n",
    "        else:\n",
    "            print(f'el libro {title} no esta en la biblioteca')\n",
    "        return False\n",
    "    \n",
    "    def display_books(self) -> None:\n",
    "        \n",
    "        if not self.books:\n",
    "            print('No hay libros en la biblioteca')\n",
    "        else:\n",
    "            print(\"Libros en la biblioteca:\")\n",
    "            for book in self.books:\n",
    "                print(book)\n",
    "    \n",
    "\n",
    "            \n",
    "        \n",
    "    "
   ]
  },
  {
   "cell_type": "code",
   "execution_count": 32,
   "metadata": {},
   "outputs": [
    {
     "name": "stdout",
     "output_type": "stream",
     "text": [
      "agregado\"Cien años de soledad por Gabriel Garcia Marquez a la bilbioteca\n",
      "agregado\"La ciudad y los perros por Mario Vargas Llosa a la bilbioteca\n",
      "agregado\"La casa de los espiritus por Isabel Allende a la bilbioteca\n",
      "agregado\"Rayuela por Julio Cortazar a la bilbioteca\n",
      "agregado\"El amor en los tiempos del colera por Gabriel Garcia Marquez a la bilbioteca\n",
      "agregado\"La fiesta del chivo por Mario Vargas Llosa a la bilbioteca\n",
      "agregado\"Paula por Isabel Allende a la bilbioteca\n",
      "agregado\"Bestiario por Julio Cortazar a la bilbioteca\n",
      "agregado\"El general en su laberinto por Gabriel Garcia Marquez a la bilbioteca\n"
     ]
    }
   ],
   "source": [
    "library = Library(\"Biblioteca Central\")\n",
    "\n",
    "#agregar libros a la biblioteca\n",
    "library.add_book(Book('Cien años de soledad', 'Gabriel Garcia Marquez'))\n",
    "library.add_book(Book('La ciudad y los perros', 'Mario Vargas Llosa'))\n",
    "library.add_book(Book('La casa de los espiritus', 'Isabel Allende'))\n",
    "library.add_book(Book('Rayuela', 'Julio Cortazar')) \n",
    "library.add_book(Book('El amor en los tiempos del colera', 'Gabriel Garcia Marquez'))\n",
    "library.add_book(Book('La fiesta del chivo', 'Mario Vargas Llosa'))\n",
    "library.add_book(Book('Paula', 'Isabel Allende'))\n",
    "library.add_book(Book('Bestiario', 'Julio Cortazar'))\n",
    "library.add_book(Book('El general en su laberinto', 'Gabriel Garcia Marquez'))"
   ]
  },
  {
   "cell_type": "code",
   "execution_count": 33,
   "metadata": {},
   "outputs": [
    {
     "name": "stdout",
     "output_type": "stream",
     "text": [
      "Libros en la biblioteca:\n",
      "Cien años de soledad por Gabriel Garcia Marquez - disponible\n",
      "La ciudad y los perros por Mario Vargas Llosa - disponible\n",
      "La casa de los espiritus por Isabel Allende - disponible\n",
      "Rayuela por Julio Cortazar - disponible\n",
      "El amor en los tiempos del colera por Gabriel Garcia Marquez - disponible\n",
      "La fiesta del chivo por Mario Vargas Llosa - disponible\n",
      "Paula por Isabel Allende - disponible\n",
      "Bestiario por Julio Cortazar - disponible\n",
      "El general en su laberinto por Gabriel Garcia Marquez - disponible\n"
     ]
    }
   ],
   "source": [
    "library.display_books()"
   ]
  },
  {
   "cell_type": "code",
   "execution_count": 34,
   "metadata": {},
   "outputs": [
    {
     "name": "stdout",
     "output_type": "stream",
     "text": [
      "el libro Cien años de soledad ha sido prestado\n"
     ]
    },
    {
     "data": {
      "text/plain": [
       "True"
      ]
     },
     "execution_count": 34,
     "metadata": {},
     "output_type": "execute_result"
    }
   ],
   "source": [
    "library.lend_book(\"Cien años de soledad\")"
   ]
  },
  {
   "cell_type": "code",
   "execution_count": 35,
   "metadata": {},
   "outputs": [
    {
     "name": "stdout",
     "output_type": "stream",
     "text": [
      "el libro Cien años de soledad no esta disponible\n"
     ]
    },
    {
     "data": {
      "text/plain": [
       "False"
      ]
     },
     "execution_count": 35,
     "metadata": {},
     "output_type": "execute_result"
    }
   ],
   "source": [
    "library.lend_book(\"Cien años de soledad\")"
   ]
  },
  {
   "cell_type": "code",
   "execution_count": 36,
   "metadata": {},
   "outputs": [
    {
     "name": "stdout",
     "output_type": "stream",
     "text": [
      "Libros en la biblioteca:\n",
      "Cien años de soledad por Gabriel Garcia Marquez - prestado\n",
      "La ciudad y los perros por Mario Vargas Llosa - disponible\n",
      "La casa de los espiritus por Isabel Allende - disponible\n",
      "Rayuela por Julio Cortazar - disponible\n",
      "El amor en los tiempos del colera por Gabriel Garcia Marquez - disponible\n",
      "La fiesta del chivo por Mario Vargas Llosa - disponible\n",
      "Paula por Isabel Allende - disponible\n",
      "Bestiario por Julio Cortazar - disponible\n",
      "El general en su laberinto por Gabriel Garcia Marquez - disponible\n"
     ]
    }
   ],
   "source": [
    "library.display_books()"
   ]
  },
  {
   "cell_type": "code",
   "execution_count": 37,
   "metadata": {},
   "outputs": [
    {
     "name": "stdout",
     "output_type": "stream",
     "text": [
      "el libro Cien años de soledad ha sido devuelto\n"
     ]
    },
    {
     "data": {
      "text/plain": [
       "True"
      ]
     },
     "execution_count": 37,
     "metadata": {},
     "output_type": "execute_result"
    }
   ],
   "source": [
    "library.return_book(\"Cien años de soledad\")"
   ]
  },
  {
   "cell_type": "code",
   "execution_count": 38,
   "metadata": {},
   "outputs": [
    {
     "name": "stdout",
     "output_type": "stream",
     "text": [
      "el libro Cien años de soledad no esta prestado\n"
     ]
    },
    {
     "data": {
      "text/plain": [
       "False"
      ]
     },
     "execution_count": 38,
     "metadata": {},
     "output_type": "execute_result"
    }
   ],
   "source": [
    "library.return_book(\"Cien años de soledad\")"
   ]
  },
  {
   "cell_type": "markdown",
   "metadata": {},
   "source": [
    "Vamos a crear un sistema de gestión para un termostato que controla la temperatura de una habitación. Este sistema tendrá la capacidad de ajustar la temperatura, cambiar entre modos (calefacción y enfriamiento), y mostrar el estado actual del termostato.\n",
    "Descripción del Ejercicio\n",
    "\n",
    "    Clase Thermostat: Esta clase tendrá atributos para almacenar la temperatura actual, la temperatura deseada, y el modo (calefacción o enfriamiento).\n",
    "    Métodos:\n",
    "        set_temperature: Para establecer la temperatura deseada.\n",
    "        adjust_temperature: Para ajustar la temperatura actual hacia la temperatura deseada, dependiendo del modo.\n",
    "        change_mode: Para cambiar entre modo calefacción y modo enfriamiento.\n",
    "        status: Para mostrar el estado actual del termostato, incluyendo la temperatura actual, la temperatura deseada, y el modo."
   ]
  },
  {
   "cell_type": "code",
   "execution_count": 40,
   "metadata": {},
   "outputs": [],
   "source": [
    "class Thermostat:\n",
    "    def __init__(self, current_temperature: float, mode: str = \"calefaccion\"):\n",
    "        self.current_temperature = current_temperature\n",
    "        self.mode = mode\n",
    "        self.desired_temperature = current_temperature\n",
    "        \n",
    "    def set_temperature(self, temp: float) -> None:\n",
    "        self.desired_temperature = temp\n",
    "        print(f'temperatura deseada: {temp} °C')\n",
    "        \n",
    "    def adjust_temperature(self) -> None:\n",
    "        if self.mode == \"calefaccion\":\n",
    "            if self.current_temperature < self.desired_temperature:\n",
    "                self.current_temperature += 1\n",
    "        elif self.mode == \"refrigeracion\":\n",
    "            if self.current_temperature > self.desired_temperature:\n",
    "                self.current_temperature -= 1\n",
    "        print(f'temperatura actual: {self.current_temperature} °C')\n",
    "           \n",
    "    def change_mode(self, new_mode:str)-> None:\n",
    "        if new_mode in [\"calefaccion\", \"refrigeracion\"]:\n",
    "            self.mode = new_mode\n",
    "            print(f'modo cambiado a: {self.mode}')\n",
    "        else:\n",
    "            print('modo no valido')\n",
    "            \n",
    "    def status (self) -> str:\n",
    "        return f'temperatura actual: {self.current_temperature} °C, temperatura deseada: {self.desired_temperature} °C, modo: {self.mode}'\n",
    "    \n",
    "    \n",
    "        \n"
   ]
  },
  {
   "cell_type": "code",
   "execution_count": 41,
   "metadata": {},
   "outputs": [],
   "source": [
    "Thermostat = Thermostat(current_temperature =20)"
   ]
  },
  {
   "cell_type": "code",
   "execution_count": 42,
   "metadata": {},
   "outputs": [
    {
     "name": "stdout",
     "output_type": "stream",
     "text": [
      "temperatura actual: 20 °C, temperatura deseada: 20 °C, modo: calefaccion\n"
     ]
    }
   ],
   "source": [
    "print(Thermostat.status())"
   ]
  },
  {
   "cell_type": "code",
   "execution_count": 76,
   "metadata": {},
   "outputs": [
    {
     "name": "stdout",
     "output_type": "stream",
     "text": [
      "temperatura actual: 19 °C\n"
     ]
    }
   ],
   "source": [
    "Thermostat.adjust_temperature()"
   ]
  },
  {
   "cell_type": "code",
   "execution_count": 68,
   "metadata": {},
   "outputs": [
    {
     "name": "stdout",
     "output_type": "stream",
     "text": [
      "temperatura deseada: 19 °C\n"
     ]
    }
   ],
   "source": [
    "Thermostat.set_temperature(19)"
   ]
  },
  {
   "cell_type": "code",
   "execution_count": 67,
   "metadata": {},
   "outputs": [
    {
     "name": "stdout",
     "output_type": "stream",
     "text": [
      "modo cambiado a: refrigeracion\n"
     ]
    }
   ],
   "source": [
    "Thermostat.change_mode(\"refrigeracion\")"
   ]
  },
  {
   "cell_type": "code",
   "execution_count": 77,
   "metadata": {},
   "outputs": [
    {
     "name": "stdout",
     "output_type": "stream",
     "text": [
      "temperatura actual: 19 °C, temperatura deseada: 19 °C, modo: refrigeracion\n"
     ]
    }
   ],
   "source": [
    "print(Thermostat.status())"
   ]
  }
 ],
 "metadata": {
  "kernelspec": {
   "display_name": "Python 3",
   "language": "python",
   "name": "python3"
  },
  "language_info": {
   "codemirror_mode": {
    "name": "ipython",
    "version": 3
   },
   "file_extension": ".py",
   "mimetype": "text/x-python",
   "name": "python",
   "nbconvert_exporter": "python",
   "pygments_lexer": "ipython3",
   "version": "3.12.5"
  }
 },
 "nbformat": 4,
 "nbformat_minor": 2
}
