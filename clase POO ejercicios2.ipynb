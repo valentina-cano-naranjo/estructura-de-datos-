{
 "cells": [
  {
   "cell_type": "markdown",
   "metadata": {},
   "source": [
    "Vas a crear un sistema básico de gestión para un negocio de carwash. Este sistema permitirá gestionar los servicios de lavado, los clientes y los empleados que realizan los lavados. Además, podrás gestionar las órdenes de servicio, donde un cliente solicita un lavado específico que será realizado por un empleado. Implementarás clases para representar un Servicio, un Cliente, un Empleado, y una Orden de Servicio. Usarás herencia para extender la funcionalidad de la clase Empleado a diferentes tipos de empleados (por ejemplo, Lavador y Supervisor)."
   ]
  },
  {
   "cell_type": "markdown",
   "metadata": {},
   "source": [
    "Requisitos:\n",
    "\n",
    "    Clase Servicio:\n",
    "        Atributos: nombre, precio, duracion_estimada (en minutos).\n",
    "        Métodos:\n",
    "            __str__: Devolver una representación en cadena del servicio.\n",
    "\n",
    "    Clase Cliente:\n",
    "        Atributos: nombre, apellido, telefono.\n",
    "        Métodos:\n",
    "            __str__: Devolver una representación en cadena del cliente.\n",
    "\n",
    "    Clase Empleado:\n",
    "        Atributos: nombre, apellido, id_empleado.\n",
    "        Métodos:\n",
    "            __str__: Devolver una representación en cadena del empleado.\n",
    "\n",
    "    Clases Lavador y Supervisor (heredan de Empleado):\n",
    "        Atributos adicionales:\n",
    "            Lavador: nivel_experiencia.\n",
    "            Supervisor: años_experiencia.\n",
    "        Métodos:\n",
    "            __str__: Devolver una representación en cadena del tipo de empleado.\n",
    "\n",
    "    Clase Orden de Servicio:\n",
    "        Atributos: servicio (de tipo Servicio), cliente (de tipo Cliente), empleado (de tipo Empleado), fecha_servicio.\n",
    "        Métodos:\n",
    "            __str__: Devolver una representación en cadena de la orden de servicio.\n",
    "            marcar_completado: Marca la orden de servicio como completada.\n",
    "\n",
    "    Clase Carwash:\n",
    "        Atributos: servicios (lista de servicios), clientes (lista de clientes), empleados (lista de empleados), ordenes (lista de órdenes de servicio).\n",
    "        Métodos:\n",
    "            agregar_servicio: Agrega un servicio a la lista de servicios disponibles.\n",
    "            agregar_cliente: Agrega un cliente al registro de clientes.\n",
    "            agregar_empleado: Agrega un empleado al registro de empleados.\n",
    "            crear_orden: Crea una nueva orden de servicio.\n",
    "            completar_orden: Marca una orden de servicio como completada.\n",
    "            mostrar_ordenes: Muestra todas las órdenes de servicio realizadas."
   ]
  },
  {
   "cell_type": "code",
   "execution_count": 36,
   "metadata": {},
   "outputs": [],
   "source": [
    "from datetime import date\n",
    "class Servicio:\n",
    "    def __init__ (self, nombre, precio, duracion_estimada):\n",
    "        self.nombre = nombre\n",
    "        self.precio = precio\n",
    "        self.duracion_estimada = duracion_estimada\n",
    "        \n",
    "    def __str__(self):\n",
    "        return f\"{self.nombre} ${self.precio} {self.duracion_estimada} en minutos\"\n",
    "    \n",
    "class Cliente:\n",
    "    def __init__(self, nombre, apellido, telefono):\n",
    "        self.nombre = nombre\n",
    "        self.apellido = apellido\n",
    "        self.telefono = telefono\n",
    "        \n",
    "    def __str__(self):\n",
    "        return f\"Cliente {self.nombre} {self.apellido} con telefono: {self.telefono}\"\n",
    "    \n",
    "class Empleado:\n",
    "    def __init__(self, nombre, apellido, id_empleado):\n",
    "        self.nombre = nombre\n",
    "        self.apellido = apellido\n",
    "        self.id_empleado = id_empleado\n",
    "        \n",
    "    def __str__(self):\n",
    "        return f\"Empleado {self.nombre} {self.apellido} con id: {self.id_empleado}\"\n",
    "    \n",
    "class Lavador (Empleado):\n",
    "    def __init__(self, nombre, apellido, id_empleado, nivel_experiencia):\n",
    "        super().__init__(nombre, apellido, id_empleado) # metodo constructor de la clase padre\n",
    "        self.nivel_experiencia = nivel_experiencia\n",
    "        \n",
    "    def __str__(self):\n",
    "        return f\"Lavador: {super().__str__()} con nivel de experiencia {self.nivel_experiencia}\"\n",
    "    \n",
    "class Supervisor(Empleado):\n",
    "    def __init__(self, nombre, apellido, id_empleado, anios_experiencia):\n",
    "        super().__init__(nombre, apellido, id_empleado)\n",
    "        self.anios_experiencia = anios_experiencia\n",
    "        \n",
    "    def __str__(self):\n",
    "        return f\"Supervisor: {super().__str__()} con {self.anios_experiencia} años de experiencia\"\n",
    "    \n",
    "class OrdenDeServicio:\n",
    "    def __init__(self, servicio, cliente, empleado, fecha_servicio):\n",
    "        self.cliente = cliente\n",
    "        self.empleado = empleado\n",
    "        self.servicio = servicio\n",
    "        self.fecha_servicio = fecha_servicio\n",
    "        self.completado = False\n",
    "        \n",
    "    def __str__(self):\n",
    "        estado = \"completado\" if self.completado else \"pendiente\"\n",
    "        return f\"Orden de servicio para {self.servicio.nombre} para {self.cliente.nombre} realizado por:{self.empleado.nombre} en la fecha {self.fecha_servicio} esta {estado}\"\n",
    "    \n",
    "    def marcar_completado(self):\n",
    "        self.completado = True\n",
    "        \n",
    "class Carwash:\n",
    "    def __init__(self):\n",
    "        self.servicios = [] # lista de servicios\n",
    "        self.clientes = [] # lista de clientes\n",
    "        self.empleados = [] # lista de empleados\n",
    "        self.ordenes = [] # lista de ordenes de servicio\n",
    "            \n",
    "    def agregar_servicio(self, servicio):\n",
    "            self.servicios.append(servicio)\n",
    "            \n",
    "    def agregar_cliente(self, cliente):\n",
    "            self.clientes.append(cliente)\n",
    "            \n",
    "    def agregar_empleado(self, empleado):\n",
    "            self.empleados.append(empleado)\n",
    "            \n",
    "    def crear_orden(self, servicio, cliente, empleado):\n",
    "            if servicio in self.servicios and cliente in self.clientes and empleado in self.empleados:\n",
    "                orden = OrdenDeServicio(servicio, cliente, empleado, date.today())\n",
    "                self.ordenes.append(orden)\n",
    "                print(f\"Orden creada {orden}\")\n",
    "            else:\n",
    "                print(\"No se puede crear la orden , porque no se regditran datos.\")\n",
    "            \n",
    "    def completar_orden(self, orden):\n",
    "            orden.marcar_completado()\n",
    "            print(f\"Orden completada {orden}\")\n",
    "            \n",
    "    def mostrar_ordenes(self):\n",
    "            for orden in self.ordenes:\n",
    "                print(orden)\n",
    "        \n",
    "        "
   ]
  },
  {
   "cell_type": "code",
   "execution_count": 37,
   "metadata": {},
   "outputs": [],
   "source": [
    "servicio1 = Servicio(\"Lavado de auto basico\", 30.000, 30)\n",
    "servicio2 = Servicio(\"Lavado de auto completo\", 50.000, 60)"
   ]
  },
  {
   "cell_type": "code",
   "execution_count": 38,
   "metadata": {},
   "outputs": [],
   "source": [
    "cliente1 = Cliente(\"Juan\", \"Perez\", \"555-1234\")   \n",
    "cliente2 = Cliente(\"Maria\", \"Lopez\", \"555-5678\")"
   ]
  },
  {
   "cell_type": "code",
   "execution_count": 39,
   "metadata": {},
   "outputs": [],
   "source": [
    "lavador = Lavador(\"juan\", \"vasquez\", 1, \"principiante\")\n",
    "supervisor = Supervisor(\"Pedro\", \"Gonzalez\", 2, 5)\n"
   ]
  },
  {
   "cell_type": "code",
   "execution_count": 40,
   "metadata": {},
   "outputs": [],
   "source": [
    "carwash = Carwash()"
   ]
  },
  {
   "cell_type": "code",
   "execution_count": 41,
   "metadata": {},
   "outputs": [],
   "source": [
    "carwash.agregar_servicio(servicio1)\n",
    "carwash.agregar_servicio(servicio2)\n",
    "carwash.agregar_cliente(cliente1)\n",
    "carwash.agregar_cliente(cliente2)\n",
    "carwash.agregar_empleado(lavador)\n",
    "carwash.agregar_empleado(supervisor)\n",
    "\n"
   ]
  },
  {
   "cell_type": "code",
   "execution_count": 43,
   "metadata": {},
   "outputs": [
    {
     "name": "stdout",
     "output_type": "stream",
     "text": [
      "Orden creada Orden de servicio para Lavado de auto basico para Juan realizado por:juan en la fecha 2024-08-28 esta pendiente\n",
      "Orden creada Orden de servicio para Lavado de auto completo para Maria realizado por:Pedro en la fecha 2024-08-28 esta pendiente\n"
     ]
    }
   ],
   "source": [
    "carwash.crear_orden(servicio1, cliente1, lavador)\n",
    "carwash.crear_orden(servicio2, cliente2, supervisor)"
   ]
  },
  {
   "cell_type": "code",
   "execution_count": 44,
   "metadata": {},
   "outputs": [
    {
     "name": "stdout",
     "output_type": "stream",
     "text": [
      "Orden de servicio para Lavado de auto basico para Juan realizado por:juan en la fecha 2024-08-28 esta pendiente\n",
      "Orden de servicio para Lavado de auto completo para Maria realizado por:Pedro en la fecha 2024-08-28 esta pendiente\n",
      "Orden de servicio para Lavado de auto basico para Juan realizado por:juan en la fecha 2024-08-28 esta pendiente\n",
      "Orden de servicio para Lavado de auto completo para Maria realizado por:Pedro en la fecha 2024-08-28 esta pendiente\n"
     ]
    }
   ],
   "source": [
    "carwash.mostrar_ordenes()"
   ]
  },
  {
   "cell_type": "code",
   "execution_count": 45,
   "metadata": {},
   "outputs": [
    {
     "name": "stdout",
     "output_type": "stream",
     "text": [
      "Orden completada Orden de servicio para Lavado de auto basico para Juan realizado por:juan en la fecha 2024-08-28 esta completado\n"
     ]
    }
   ],
   "source": [
    "orden_a_completar = carwash.ordenes[0]\n",
    "carwash.completar_orden(orden_a_completar)"
   ]
  },
  {
   "cell_type": "code",
   "execution_count": 46,
   "metadata": {},
   "outputs": [
    {
     "name": "stdout",
     "output_type": "stream",
     "text": [
      "Orden de servicio para Lavado de auto basico para Juan realizado por:juan en la fecha 2024-08-28 esta completado\n",
      "Orden de servicio para Lavado de auto completo para Maria realizado por:Pedro en la fecha 2024-08-28 esta pendiente\n",
      "Orden de servicio para Lavado de auto basico para Juan realizado por:juan en la fecha 2024-08-28 esta pendiente\n",
      "Orden de servicio para Lavado de auto completo para Maria realizado por:Pedro en la fecha 2024-08-28 esta pendiente\n"
     ]
    }
   ],
   "source": [
    "carwash.mostrar_ordenes()"
   ]
  },
  {
   "cell_type": "markdown",
   "metadata": {},
   "source": [
    "Vas a crear un sistema de gestión de pagos para un negocio. Este sistema debe ser capaz de procesar pagos realizados por diferentes métodos, como tarjeta de crédito, transferencia bancaria y efectivo. Cada método de pago tendrá una implementación específica del método procesar_pago, que se encargará de manejar el pago de acuerdo con el método correspondiente.\n",
    "\n",
    "Utilizarás polimorfismo para que, independientemente del tipo de pago, el sistema pueda procesar el pago utilizando la misma interfaz (procesar_pago).\n",
    "\n",
    "Requisitos:\n",
    "\n",
    "    Clase abstracta MetodoPago:\n",
    "        Métodos:\n",
    "            procesar_pago(self, monto): Este es un método abstracto que deberá ser implementado por todas las subclases que heredan de MetodoPago.\n",
    "\n",
    "    Clases TarjetaCredito, TransferenciaBancaria, y Efectivo:\n",
    "        Estas clases heredan de MetodoPago y cada una implementa su propia versión del método procesar_pago.\n",
    "\n",
    "    Clase ProcesadorPagos:\n",
    "        Método:\n",
    "            procesar(self, metodo_pago, monto): Este método acepta un objeto de tipo MetodoPago y un monto, y utiliza el método procesar_pago del objeto para procesar el pago."
   ]
  },
  {
   "cell_type": "code",
   "execution_count": 47,
   "metadata": {},
   "outputs": [],
   "source": [
    "from abc import ABC, abstractmethod\n",
    "class MetodoPago(ABC):\n",
    "    @abstractmethod\n",
    "    def procesar_pago(self, monto):\n",
    "      pass\n",
    "    \n",
    "class TarjetaCredito(MetodoPago):\n",
    "    def procesar_pago(self, monto):\n",
    "       return f\"Procesando pago de ${monto} con tarjeta de credito\"\n",
    "   \n",
    "class TrasferenciaBancaria(MetodoPago):\n",
    "    def procesar_pago(self, monto):\n",
    "       return f\"Procesando pago de ${monto} con transferencia bancaria\"\n",
    "   \n",
    "class Efectivo(MetodoPago):\n",
    "    def procesar_pago(self, monto):\n",
    "       return f\"Procesando pago de ${monto} en efectivo\"\n",
    "   \n",
    "class ProcesadorPagos:\n",
    "    def procesar (self, metodo_pago, monto):\n",
    "        return metodo_pago.procesar_pago(monto)\n",
    "    \n",
    "\n",
    "        "
   ]
  },
  {
   "cell_type": "code",
   "execution_count": 48,
   "metadata": {},
   "outputs": [],
   "source": [
    "visa = TarjetaCredito()\n",
    "mastercard = TarjetaCredito()\n",
    "american_express = TarjetaCredito()\n",
    "transferenciaQR = TrasferenciaBancaria()\n",
    "efectivo = Efectivo()"
   ]
  },
  {
   "cell_type": "code",
   "execution_count": 49,
   "metadata": {},
   "outputs": [],
   "source": [
    "porcesador = ProcesadorPagos()"
   ]
  },
  {
   "cell_type": "code",
   "execution_count": 52,
   "metadata": {},
   "outputs": [
    {
     "data": {
      "text/plain": [
       "'Procesando pago de $100 con tarjeta de credito'"
      ]
     },
     "execution_count": 52,
     "metadata": {},
     "output_type": "execute_result"
    }
   ],
   "source": [
    "porcesador.procesar(visa, 100)\n"
   ]
  },
  {
   "cell_type": "code",
   "execution_count": 53,
   "metadata": {},
   "outputs": [
    {
     "data": {
      "text/plain": [
       "'Procesando pago de $200 con tarjeta de credito'"
      ]
     },
     "execution_count": 53,
     "metadata": {},
     "output_type": "execute_result"
    }
   ],
   "source": [
    "porcesador.procesar(mastercard, 200)"
   ]
  },
  {
   "cell_type": "code",
   "execution_count": 55,
   "metadata": {},
   "outputs": [
    {
     "data": {
      "text/plain": [
       "'Procesando pago de $300 con transferencia bancaria'"
      ]
     },
     "execution_count": 55,
     "metadata": {},
     "output_type": "execute_result"
    }
   ],
   "source": [
    "porcesador.procesar(transferenciaQR, 300)"
   ]
  },
  {
   "cell_type": "code",
   "execution_count": 56,
   "metadata": {},
   "outputs": [
    {
     "data": {
      "text/plain": [
       "'Procesando pago de $400 en efectivo'"
      ]
     },
     "execution_count": 56,
     "metadata": {},
     "output_type": "execute_result"
    }
   ],
   "source": [
    "porcesador.procesar(efectivo, 400)"
   ]
  }
 ],
 "metadata": {
  "kernelspec": {
   "display_name": "Python 3",
   "language": "python",
   "name": "python3"
  },
  "language_info": {
   "codemirror_mode": {
    "name": "ipython",
    "version": 3
   },
   "file_extension": ".py",
   "mimetype": "text/x-python",
   "name": "python",
   "nbconvert_exporter": "python",
   "pygments_lexer": "ipython3",
   "version": "3.12.5"
  }
 },
 "nbformat": 4,
 "nbformat_minor": 2
}
