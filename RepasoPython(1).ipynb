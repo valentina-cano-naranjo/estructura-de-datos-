{
  "cells": [
    {
      "cell_type": "markdown",
      "metadata": {
        "id": "8Eqn3RtteZei"
      },
      "source": [
        "<p><img alt=\"Colaboratory logo\" height=\"140px\" src=\"https://upload.wikimedia.org/wikipedia/commons/c/ce/Logo-ITM-01.png\" align=\"left\" hspace=\"10px\" vspace=\"0px\"></p>\n",
        "<h2> Introducción a la programación orientada a objetos con python.</h2>\n",
        "\n",
        "El presente curso hace parte del programa de ciclos de formación en programación con lenguaje Python para el programa de jovenes investigadores e inovadores del ITM. Por William Giraldo escobar\n"
      ]
    },
    {
      "cell_type": "markdown",
      "metadata": {
        "id": "PT5cUO0od2BT"
      },
      "source": [
        "<p><a name=\"pythonIntro\"></a></p>\n",
        "\n",
        "# 1) Introducción a Python\n",
        "\n",
        "[[Contenidos]](#contents)\n",
        "\n",
        "El objetivo de la presente sección es el de suministrar al lector una breve introducción al lenguaje Python, y ayudar a los principiantes a familiarizarse con dicho lenguaje."
      ]
    },
    {
      "cell_type": "markdown",
      "metadata": {
        "id": "4SdWFMpF_iyw"
      },
      "source": [
        "<p><a name=\"vars\"></a></p>\n",
        "\n",
        "## 1.1. Variables y tipos\n",
        "\n",
        "[[Secciones]](#sections)\n"
      ]
    },
    {
      "cell_type": "markdown",
      "metadata": {
        "id": "OmG1xsWVBh3G"
      },
      "source": [
        "<p><a name=\"syms\"></a></p>\n",
        "\n",
        "### 1.1.1. Variables y tipos\n",
        "\n",
        "Los nombres de las variables en Python pueden contener caracteres alfanuméricos *a-z*, *A-Z*, *0-9* y algunos caracteres especiales como _. Los nombres de las variables deben comenzar con una letra. \n",
        "\n",
        "Por convención, los nombres de las variables comienzan con letras minúsculas, y los nombres de las Clases con letras mayúsculas.\n",
        "\n",
        "Adicionalmente, existe un número de palabras claves que no pueden ser usadas como nombres de variables. Estas palabras claves son:\n",
        "\n",
        "> `and, as, assert, break, class, continue, def, del, elif, else, except, exec, finally, for, from, global, if, import, in, is, lambda, not, or, pass, print, raise, return, try, while, with, yield`\n",
        "\n"
      ]
    },
    {
      "cell_type": "markdown",
      "metadata": {
        "id": "0tOzwypQG20y"
      },
      "source": [
        "<p><a name=\"asign\"></a></p>\n",
        "\n",
        "### 1.1.2. Asignación.\n",
        "\n",
        "En Python, el operado de asignación es \"=\".  Python es un lenguaje de tipado dinámico, de tal forma que no es necesario asignarle un tipo a la variable cuando es creada.\n",
        "\n",
        "La asignación de un valor a una variable crea la variable. Por ejemplo:"
      ]
    },
    {
      "cell_type": "code",
      "execution_count": null,
      "metadata": {
        "id": "65XTvJMTHH5w"
      },
      "outputs": [],
      "source": [
        "# asignación a una variable\n",
        "try:\n",
        "    y=trues\n",
        "except:\n",
        "    print(\"hay un error en el codigo verifique porfavor\")\n"
      ]
    },
    {
      "cell_type": "markdown",
      "metadata": {
        "id": "eTOeTstfKVgJ"
      },
      "source": [
        "Aunque no se hizo explicito, la variable tiene un tipo asociado a ella. El tipo de la variable puede deducirse del valor que le fue asignado. También podemos consultar el tipo mediante la función `type`:"
      ]
    },
    {
      "cell_type": "code",
      "execution_count": null,
      "metadata": {
        "colab": {
          "base_uri": "https://localhost:8080/"
        },
        "id": "QTB-K6oxKnEK",
        "outputId": "14075187-c979-4222-e30e-ce0db6ff6390"
      },
      "outputs": [],
      "source": [
        "type(y)"
      ]
    },
    {
      "cell_type": "markdown",
      "metadata": {
        "id": "wjTTfD72Ktv5"
      },
      "source": [
        "Si asignamos a la variable un nuevo valor, su tipo puede cambiar:"
      ]
    },
    {
      "cell_type": "code",
      "execution_count": 9,
      "metadata": {
        "colab": {
          "base_uri": "https://localhost:8080/"
        },
        "id": "SkbRDe3hKz78",
        "outputId": "0d186fea-d26e-4e81-92fc-e9373f6c35c0"
      },
      "outputs": [
        {
          "data": {
            "text/plain": [
              "numpy.ndarray"
            ]
          },
          "execution_count": 9,
          "metadata": {},
          "output_type": "execute_result"
        }
      ],
      "source": [
        "import numpy as np\n",
        "x = np.array([1.5,23,3,34])\n",
        "type(x)\n"
      ]
    },
    {
      "cell_type": "markdown",
      "metadata": {
        "id": "VyawEMh7LDkv"
      },
      "source": [
        "Si intentamos usar una variable que no ha sido definida aun, obtenemos un error `NameError` (Nótese que usarémos en los notebooks los bloques `try/except` para tratar las excepciones, de tal forma que el notebook no se interrumpa). \n",
        "\n",
        "En el siguiente código, intentaremos usar la función `print` de tal forma que si ocurre la excepción `NameError`, se imprime un mensaje en pantalla; de lo contrario, se generará un error. Más adelante, en el presente notebook, se estudiará mas detalladamente el manejo de excepciones.\n",
        "\n",
        " "
      ]
    },
    {
      "cell_type": "code",
      "execution_count": null,
      "metadata": {
        "id": "ORvLMmxUiyYn"
      },
      "outputs": [],
      "source": []
    },
    {
      "cell_type": "markdown",
      "metadata": {
        "id": "DrrYSJFGNlTQ"
      },
      "source": [
        "<p><a name=\"ftypes\"></a></p>\n",
        "\n",
        "### 1.1.3. Tipos fundamentales.\n",
        "\n",
        "En Python, los tipos fundamentales son \n",
        "\n",
        "\n",
        "\n",
        "\n",
        "\n",
        "1.   Enteros (int).\n",
        "2.   Punto flotante (float).\n",
        "3.   Buleanos (boolean)\n",
        "4.   Cadena de caracteres (strings).\n",
        "\n",
        "Veamos algunos ejemplos de estos tipos:\n",
        "\n",
        "\n",
        "\n",
        "\n"
      ]
    },
    {
      "cell_type": "code",
      "execution_count": 11,
      "metadata": {
        "colab": {
          "base_uri": "https://localhost:8080/"
        },
        "id": "AsH88KwXOjvT",
        "outputId": "eee1ece5-e7fd-489d-f75a-cf74d4b413ae"
      },
      "outputs": [
        {
          "data": {
            "text/plain": [
              "int"
            ]
          },
          "execution_count": 11,
          "metadata": {},
          "output_type": "execute_result"
        }
      ],
      "source": [
        "# integers\n",
        "\n",
        "x = 1987606\n",
        "type(x)"
      ]
    },
    {
      "cell_type": "code",
      "execution_count": 14,
      "metadata": {
        "colab": {
          "base_uri": "https://localhost:8080/"
        },
        "id": "d0MOnaqlOtrc",
        "outputId": "eafe51b1-24a7-495b-e34c-d3d1b63d795f"
      },
      "outputs": [
        {
          "data": {
            "text/plain": [
              "float"
            ]
          },
          "execution_count": 14,
          "metadata": {},
          "output_type": "execute_result"
        }
      ],
      "source": [
        "# float \n",
        "\n",
        "x = 1.654654\n",
        "type(x)"
      ]
    },
    {
      "cell_type": "code",
      "execution_count": 16,
      "metadata": {
        "colab": {
          "base_uri": "https://localhost:8080/"
        },
        "id": "D4YDFbxpO1HX",
        "outputId": "796242e9-d87c-462e-8016-4f562a9b75bf"
      },
      "outputs": [
        {
          "data": {
            "text/plain": [
              "(bool, int)"
            ]
          },
          "execution_count": 16,
          "metadata": {},
          "output_type": "execute_result"
        }
      ],
      "source": [
        "# boolean\n",
        "\n",
        "b1 = False\n",
        "b2 = 4\n",
        "\n",
        "type(b1), type(b2)"
      ]
    },
    {
      "cell_type": "code",
      "execution_count": 17,
      "metadata": {
        "colab": {
          "base_uri": "https://localhost:8080/"
        },
        "id": "tbWinpAZPDir",
        "outputId": "0d86ffcf-26f4-4a95-eba0-8d7182fe6f44"
      },
      "outputs": [
        {
          "data": {
            "text/plain": [
              "str"
            ]
          },
          "execution_count": 17,
          "metadata": {},
          "output_type": "execute_result"
        }
      ],
      "source": [
        "# string\n",
        "s = \"Hola Mundo\"\n",
        "\n",
        "type(s)"
      ]
    },
    {
      "cell_type": "markdown",
      "metadata": {
        "id": "YonkX37TQTzA"
      },
      "source": [
        "<p><a name=\"ops&comps\"></a></p>\n",
        "\n",
        "## 1.2. Operadores y comparaciones.\n",
        "\n",
        "[[Secciones]](#sections)\n",
        "\n",
        "La mayoria de operadores y comparaciones poseen el significado al que, comunmente, estamos acostumbrados.\n",
        "<br>\n",
        "<br>\n",
        "*   Operadores aritméticos  `+`, `-`, `*`, `/`, `**` (potencia), `%` (módulo)\n",
        "\n",
        "\n"
      ]
    },
    {
      "cell_type": "code",
      "execution_count": 18,
      "metadata": {
        "colab": {
          "base_uri": "https://localhost:8080/"
        },
        "id": "a0aadW7WQ4MJ",
        "outputId": "323f05f9-2d90-40aa-e8ae-b6d7e531076f"
      },
      "outputs": [
        {
          "data": {
            "text/plain": [
              "1"
            ]
          },
          "execution_count": 18,
          "metadata": {},
          "output_type": "execute_result"
        }
      ],
      "source": [
        "x = 7%2             \n",
        "x"
      ]
    },
    {
      "cell_type": "markdown",
      "metadata": {
        "id": "5QjhwpkeAP7i"
      },
      "source": [
        "En Python 2.7, el tipo de división (/) que se ejecute, depende del tipo de números involucrados. Si todos los números son enteros, la división será una divión entera, de lo contrario, será una operación en coma flotante. En Python 3, este hecho ha cambiado y las fracciones no se pierden cuando se dividen dos enteros (para las divisiones enteras se puede usar el operdor //)"
      ]
    },
    {
      "cell_type": "code",
      "execution_count": 23,
      "metadata": {
        "colab": {
          "base_uri": "https://localhost:8080/"
        },
        "id": "e5nUz2kxAHwp",
        "outputId": "6f9cb66d-d075-476c-fa5f-4079b6473fc1"
      },
      "outputs": [
        {
          "name": "stdout",
          "output_type": "stream",
          "text": [
            "0.5\n",
            "0.5\n",
            "1.0\n",
            "18\n"
          ]
        }
      ],
      "source": [
        "# En Python 3 las siguientes dos operaciones daran el mismo resultado.\n",
        "# En Python 2, la primera de ellas será tratada como una división entera.\n",
        "\n",
        "print(1/2)\n",
        "print(1/2.0)\n",
        "print(11//6.0)\n",
        "\n",
        "print(55//3)\n"
      ]
    },
    {
      "cell_type": "code",
      "execution_count": 30,
      "metadata": {
        "colab": {
          "base_uri": "https://localhost:8080/"
        },
        "id": "zJKMj5GKBmig",
        "outputId": "ae9dedfe-a229-4dc2-dbe2-8df0ba27fe45"
      },
      "outputs": [
        {
          "data": {
            "text/plain": [
              "4"
            ]
          },
          "execution_count": 30,
          "metadata": {},
          "output_type": "execute_result"
        }
      ],
      "source": [
        "# Nótese que la potenciación en Python se escribe de la forma ** y\n",
        "# no como ^\n",
        "\n",
        "2**2**2**0\n"
      ]
    },
    {
      "cell_type": "markdown",
      "metadata": {
        "id": "inA_zCFhCJMQ"
      },
      "source": [
        "\n",
        "*   Los buleanos están conectados o precedidos por palabras como `and`, `not`, `or`.\n",
        "\n"
      ]
    },
    {
      "cell_type": "code",
      "execution_count": 39,
      "metadata": {
        "colab": {
          "base_uri": "https://localhost:8080/"
        },
        "id": "d1L933QDB_jc",
        "outputId": "c3e746e0-1891-4a66-8419-6dbb585b768b"
      },
      "outputs": [
        {
          "data": {
            "text/plain": [
              "-1"
            ]
          },
          "execution_count": 39,
          "metadata": {},
          "output_type": "execute_result"
        }
      ],
      "source": [
        "False - True"
      ]
    },
    {
      "cell_type": "code",
      "execution_count": 32,
      "metadata": {
        "colab": {
          "base_uri": "https://localhost:8080/"
        },
        "id": "DAvHDZZPDKY0",
        "outputId": "b591f233-2348-4cef-e2ac-29871b332ba2"
      },
      "outputs": [
        {
          "data": {
            "text/plain": [
              "True"
            ]
          },
          "execution_count": 32,
          "metadata": {},
          "output_type": "execute_result"
        }
      ],
      "source": [
        "not False"
      ]
    },
    {
      "cell_type": "code",
      "execution_count": 33,
      "metadata": {
        "colab": {
          "base_uri": "https://localhost:8080/"
        },
        "id": "P_uDESoGDMt2",
        "outputId": "82997285-cb69-4cd7-bd0f-b92cb1366355"
      },
      "outputs": [
        {
          "data": {
            "text/plain": [
              "True"
            ]
          },
          "execution_count": 33,
          "metadata": {},
          "output_type": "execute_result"
        }
      ],
      "source": [
        "True or False"
      ]
    },
    {
      "cell_type": "markdown",
      "metadata": {
        "id": "mXNEKXU1DWPN"
      },
      "source": [
        "\n",
        "\n",
        "*   Operadores de comparación `>`, `<`, `>=`(mayor o igual), `<=` (menor o igual), `==` (igual), `!=`(no igual) y `is` (identico).\n"
      ]
    },
    {
      "cell_type": "code",
      "execution_count": 42,
      "metadata": {
        "colab": {
          "base_uri": "https://localhost:8080/"
        },
        "id": "j4eUgIFhDOYF",
        "outputId": "0dddff16-dffc-4b39-b04d-be507178a2dc"
      },
      "outputs": [
        {
          "name": "stdout",
          "output_type": "stream",
          "text": [
            "adios\n"
          ]
        }
      ],
      "source": [
        "2>1 or 2<1"
      ]
    },
    {
      "cell_type": "code",
      "execution_count": 43,
      "metadata": {
        "colab": {
          "base_uri": "https://localhost:8080/"
        },
        "id": "iBvOf56_INhS",
        "outputId": "d2acadc8-54e9-4e8a-a538-bc8edc636e8e"
      },
      "outputs": [
        {
          "data": {
            "text/plain": [
              "(False, False)"
            ]
          },
          "execution_count": 43,
          "metadata": {},
          "output_type": "execute_result"
        }
      ],
      "source": [
        "2>3,2<2"
      ]
    },
    {
      "cell_type": "code",
      "execution_count": 44,
      "metadata": {
        "colab": {
          "base_uri": "https://localhost:8080/"
        },
        "id": "JUtV68qaIVPz",
        "outputId": "646c916e-b385-4a8e-9eed-a617d059e94f"
      },
      "outputs": [
        {
          "data": {
            "text/plain": [
              "(True, True)"
            ]
          },
          "execution_count": 44,
          "metadata": {},
          "output_type": "execute_result"
        }
      ],
      "source": [
        "4<=4,4>=4"
      ]
    },
    {
      "cell_type": "code",
      "execution_count": 46,
      "metadata": {
        "colab": {
          "base_uri": "https://localhost:8080/"
        },
        "id": "Uf1ILoH1Idk-",
        "outputId": "f62e31f5-2e88-4968-ba53-fe56e8e096e4"
      },
      "outputs": [
        {
          "ename": "SyntaxError",
          "evalue": "cannot assign to literal (2002875772.py, line 2)",
          "output_type": "error",
          "traceback": [
            "\u001b[1;36m  Cell \u001b[1;32mIn[46], line 2\u001b[1;36m\u001b[0m\n\u001b[1;33m    [3,2]=[7,2]\u001b[0m\n\u001b[1;37m     ^\u001b[0m\n\u001b[1;31mSyntaxError\u001b[0m\u001b[1;31m:\u001b[0m cannot assign to literal\n"
          ]
        }
      ],
      "source": [
        "#igual a\n",
        "[3,2]==[7,2]"
      ]
    },
    {
      "cell_type": "code",
      "execution_count": 47,
      "metadata": {
        "colab": {
          "base_uri": "https://localhost:8080/"
        },
        "id": "eeW5ikeSIm45",
        "outputId": "3c843474-de47-4d08-f356-d84aa47b7ad0"
      },
      "outputs": [
        {
          "data": {
            "text/plain": [
              "True"
            ]
          },
          "execution_count": 47,
          "metadata": {},
          "output_type": "execute_result"
        }
      ],
      "source": [
        "# Not equal to\n",
        "\n",
        "2 != 5"
      ]
    },
    {
      "cell_type": "markdown",
      "metadata": {
        "id": "NqneYrrcI0n-"
      },
      "source": [
        "*   Operador buleano"
      ]
    },
    {
      "cell_type": "code",
      "execution_count": 48,
      "metadata": {
        "colab": {
          "base_uri": "https://localhost:8080/"
        },
        "id": "ZLEkrzmMIueo",
        "outputId": "a684d70f-1d4e-479d-8092-bddf65ad2ff8"
      },
      "outputs": [
        {
          "name": "stdout",
          "output_type": "stream",
          "text": [
            "False\n",
            "False\n",
            "True\n"
          ]
        }
      ],
      "source": [
        "x = True\n",
        "y = False\n",
        "\n",
        "print(not x)\n",
        "print(x and y)\n",
        "print(x or y)"
      ]
    },
    {
      "cell_type": "markdown",
      "metadata": {
        "id": "46t9Rw_FLLcm"
      },
      "source": [
        "<p><a name=\"mscut\"></a></p>\n",
        "\n",
        "### 1.2.1 Atajos de operaciones matemáticas y asignaciones.\n",
        "\n",
        "[[Secciones]](#sections)\n",
        "\n",
        "Por ejemplo, la siguiente asignación y operación:\n"
      ]
    },
    {
      "cell_type": "code",
      "execution_count": 56,
      "metadata": {
        "colab": {
          "base_uri": "https://localhost:8080/"
        },
        "id": "7NxR98r1J8aX",
        "outputId": "b9d7c450-d539-4261-a151-9c4224668c70"
      },
      "outputs": [
        {
          "name": "stdout",
          "output_type": "stream",
          "text": [
            "3\n"
          ]
        }
      ],
      "source": [
        "a = 2\n",
        "a += 1\n",
        "print(a)"
      ]
    },
    {
      "cell_type": "markdown",
      "metadata": {
        "id": "Oh-Lc8DGMNLK"
      },
      "source": [
        "el comando `a = a * 2`, puede ser abreviado como `a *= 2`. Este tipo de abreviaciones funcionan con las siguientes operaciones `+=`, `-=`, y `/=`."
      ]
    },
    {
      "cell_type": "code",
      "execution_count": 57,
      "metadata": {
        "colab": {
          "base_uri": "https://localhost:8080/"
        },
        "id": "4j9hXwTxMGUq",
        "outputId": "84e6a130-2e16-4833-8180-4b017c774b2b"
      },
      "outputs": [
        {
          "name": "stdout",
          "output_type": "stream",
          "text": [
            "6\n"
          ]
        }
      ],
      "source": [
        "a = 4\n",
        "a +=2\n",
        "print(a)"
      ]
    },
    {
      "cell_type": "markdown",
      "metadata": {
        "id": "jUNSgddpO0g4"
      },
      "source": [
        "<p><a name=\"sltd\"></a></p>\n",
        "\n",
        "## 1.3. Strings, listas y diccionarios.\n",
        "\n",
        "[[Secciones]](#sections)\n",
        "\n",
        "<p><a name=\"strings\"></a></p>\n",
        "\n",
        "###1.3.1 Strings\n",
        "\n",
        "Las variables que se usan para guardar un mensaje, palabra, etc, se conocen como `strings`"
      ]
    },
    {
      "cell_type": "code",
      "execution_count": 58,
      "metadata": {
        "colab": {
          "base_uri": "https://localhost:8080/"
        },
        "id": "qnZEZqP0NQuD",
        "outputId": "c32e5c22-d44f-40dd-aac3-51041d471adc"
      },
      "outputs": [
        {
          "data": {
            "text/plain": [
              "str"
            ]
          },
          "execution_count": 58,
          "metadata": {},
          "output_type": "execute_result"
        }
      ],
      "source": [
        "s = \"carlos morales\"\n",
        "type(s)"
      ]
    },
    {
      "cell_type": "code",
      "execution_count": 59,
      "metadata": {
        "colab": {
          "base_uri": "https://localhost:8080/"
        },
        "id": "yiMVrS5_Pl2e",
        "outputId": "c446d864-b991-41eb-b762-0d5ba027138c"
      },
      "outputs": [
        {
          "data": {
            "text/plain": [
              "14"
            ]
          },
          "execution_count": 59,
          "metadata": {},
          "output_type": "execute_result"
        }
      ],
      "source": [
        "# Longitud del string: Número de caracteres en el string\n",
        "len(s)"
      ]
    },
    {
      "cell_type": "code",
      "execution_count": 60,
      "metadata": {
        "colab": {
          "base_uri": "https://localhost:8080/"
        },
        "id": "svUlFngQP_cs",
        "outputId": "285126b6-fc0c-4119-d68f-b87aeb8ee2d8"
      },
      "outputs": [
        {
          "name": "stdout",
          "output_type": "stream",
          "text": [
            "juan morales\n"
          ]
        }
      ],
      "source": [
        "# Reemplazo de un substring dentro de un string\n",
        "s2 = s.replace(\"carlos\",\"juan\")\n",
        "print(s2)"
      ]
    },
    {
      "cell_type": "markdown",
      "metadata": {
        "id": "gq50T2VhQw6L"
      },
      "source": [
        "Podemos indexar los caracteres en un string mediante el uso de `[]`"
      ]
    },
    {
      "cell_type": "code",
      "execution_count": 61,
      "metadata": {
        "colab": {
          "base_uri": "https://localhost:8080/"
        },
        "id": "MlrzwSMCQnay",
        "outputId": "1141e09e-96df-42c7-f748-517785115264"
      },
      "outputs": [
        {
          "data": {
            "text/plain": [
              "('c', 'a', 'r')"
            ]
          },
          "execution_count": 61,
          "metadata": {},
          "output_type": "execute_result"
        }
      ],
      "source": [
        "s[0],s[1],s[2]"
      ]
    },
    {
      "cell_type": "markdown",
      "metadata": {
        "id": "cZ1VneRYRrga"
      },
      "source": [
        "**Para los usuarios de MATLAB:** Se debe tener cuidado ya que la indexación en Python empieza en 0.\n",
        "\n",
        "Es posible extraer parte de un string usando la sintaxis `[start:stop]`, en donde se extraen los caracteres entre la posiciones `start` y `stop`:"
      ]
    },
    {
      "cell_type": "code",
      "execution_count": 65,
      "metadata": {
        "colab": {
          "base_uri": "https://localhost:8080/",
          "height": 36
        },
        "id": "_K2cMoanRTCt",
        "outputId": "7a4eefe5-d1c4-4161-b862-5d47fb72ab92"
      },
      "outputs": [
        {
          "data": {
            "text/plain": [
              "'guerra morales ochoa'"
            ]
          },
          "execution_count": 65,
          "metadata": {},
          "output_type": "execute_result"
        }
      ],
      "source": [
        "s = \"carlos guerra morales ochoa\"\n",
        "s[7:len(s)]"
      ]
    },
    {
      "cell_type": "markdown",
      "metadata": {
        "id": "EkH3jEk8SV8e"
      },
      "source": [
        "Si omitimos en el intervalo el `start` o el `stop`, se toma por defecto el princio y el final de string, respectivamente"
      ]
    },
    {
      "cell_type": "code",
      "execution_count": 66,
      "metadata": {
        "colab": {
          "base_uri": "https://localhost:8080/",
          "height": 36
        },
        "id": "fBnB-XMzSP7P",
        "outputId": "27c5d971-28fc-4fd2-fefd-b09fc51d3dce"
      },
      "outputs": [
        {
          "data": {
            "text/plain": [
              "'carl'"
            ]
          },
          "execution_count": 66,
          "metadata": {},
          "output_type": "execute_result"
        }
      ],
      "source": [
        "s[:4]"
      ]
    },
    {
      "cell_type": "code",
      "execution_count": 67,
      "metadata": {
        "colab": {
          "base_uri": "https://localhost:8080/",
          "height": 36
        },
        "id": "uJvBDt9tSvL9",
        "outputId": "205a6c97-7def-4a5b-ffe7-255ba2b6430d"
      },
      "outputs": [
        {
          "data": {
            "text/plain": [
              "'s guerra morales ochoa'"
            ]
          },
          "execution_count": 67,
          "metadata": {},
          "output_type": "execute_result"
        }
      ],
      "source": [
        "s[5:]"
      ]
    },
    {
      "cell_type": "code",
      "execution_count": 68,
      "metadata": {
        "colab": {
          "base_uri": "https://localhost:8080/",
          "height": 36
        },
        "id": "D0Zw1I2eSzeQ",
        "outputId": "2ec0297d-696a-49b0-e335-a80e320a5103"
      },
      "outputs": [
        {
          "data": {
            "text/plain": [
              "'carlos guerra morales ochoa'"
            ]
          },
          "execution_count": 68,
          "metadata": {},
          "output_type": "execute_result"
        }
      ],
      "source": [
        "s[:]"
      ]
    },
    {
      "cell_type": "markdown",
      "metadata": {
        "id": "f9pVKmtVTOQW"
      },
      "source": [
        "También podemos definir el tamaño del paso usando la sintaxis `[inicio:final:paso]`(el valor por defecto del paso es 1, como se vio anteriormente)"
      ]
    },
    {
      "cell_type": "code",
      "execution_count": 73,
      "metadata": {
        "colab": {
          "base_uri": "https://localhost:8080/",
          "height": 36
        },
        "id": "5U5QyQ0dTIZo",
        "outputId": "48305fe7-c50e-414d-beea-db3be88d53d7"
      },
      "outputs": [
        {
          "data": {
            "text/plain": [
              "'3579'"
            ]
          },
          "execution_count": 73,
          "metadata": {},
          "output_type": "execute_result"
        }
      ],
      "source": [
        "s = \"923456789\"\n",
        "s[2::2]"
      ]
    },
    {
      "cell_type": "code",
      "execution_count": 71,
      "metadata": {
        "colab": {
          "base_uri": "https://localhost:8080/",
          "height": 36
        },
        "id": "blfs1ZIHT3AV",
        "outputId": "069c962e-4b72-482a-f616-d78a5ee75a66"
      },
      "outputs": [
        {
          "data": {
            "text/plain": [
              "'147'"
            ]
          },
          "execution_count": 71,
          "metadata": {},
          "output_type": "execute_result"
        }
      ],
      "source": [
        "s[::3]"
      ]
    },
    {
      "cell_type": "markdown",
      "metadata": {
        "id": "vrZ-PKelT-LG"
      },
      "source": [
        "A esta técnica se le conoce con el nombre se *slicing*."
      ]
    },
    {
      "cell_type": "markdown",
      "metadata": {
        "id": "Eaq_DVzaHwDH"
      },
      "source": [
        "**Ejemplos de formatos de strings**"
      ]
    },
    {
      "cell_type": "code",
      "execution_count": 89,
      "metadata": {
        "colab": {
          "base_uri": "https://localhost:8080/"
        },
        "id": "koP6MyTtT4yY",
        "outputId": "421b4ef9-c69b-46af-c186-1448784ab104"
      },
      "outputs": [
        {
          "name": "stdout",
          "output_type": "stream",
          "text": [
            "Comúnmente  hola\n"
          ]
        }
      ],
      "source": [
        "#Contatenación de strings con +\n",
        "x=\"hola\"\n",
        "print(\"Común\"+\"mente\"+\" \",x)"
      ]
    },
    {
      "cell_type": "code",
      "execution_count": 82,
      "metadata": {
        "colab": {
          "base_uri": "https://localhost:8080/"
        },
        "id": "_nxlbRWUIUNn",
        "outputId": "57b069bc-887e-4b3e-98e0-6baa31dbc60c"
      },
      "outputs": [
        {
          "name": "stdout",
          "output_type": "stream",
          "text": [
            "Comúnmente\n",
            "Común mente\n",
            "('Común', 'mente')\n"
          ]
        }
      ],
      "source": [
        "#La función print concatena dependiendo de como son las entradas.\n",
        "#A continuación se muestran tres resultados diferentes \n",
        "\n",
        "print(\"Común\"\"mente\")\n",
        "print(\"Común\",\"mente\")\n",
        "print((\"Común\",\"mente\"))"
      ]
    },
    {
      "cell_type": "code",
      "execution_count": 88,
      "metadata": {
        "colab": {
          "base_uri": "https://localhost:8080/"
        },
        "id": "6QkG1qAjJeGV",
        "outputId": "97d3b8d6-779d-4d31-efbd-e97869d8021a"
      },
      "outputs": [
        {
          "name": "stdout",
          "output_type": "stream",
          "text": [
            "Común 1 hola\n"
          ]
        }
      ],
      "source": [
        "#Por otra parte, la función print convierte todos las entradas a strings\n",
        "print(\"Común\"+\" \"+str(int(1.9)), x)"
      ]
    },
    {
      "cell_type": "markdown",
      "metadata": {
        "id": "st1oobwsLTt0"
      },
      "source": [
        "Python posee dos estilos de formatos. Un estilo más antiguo, en el que se especifica, por ejemplo, el número de cifras decimales que se imprimirá tendrá un número de tipo float denotado por %n.f y %.d, que transforma un número en un string, correspondiente a un numero decimal.  "
      ]
    },
    {
      "cell_type": "code",
      "execution_count": 100,
      "metadata": {
        "colab": {
          "base_uri": "https://localhost:8080/"
        },
        "id": "-GbWA7npKu6i",
        "outputId": "1c3ed7a2-70e6-4caa-f44a-f00b8a52a5fd"
      },
      "outputs": [
        {
          "name": "stdout",
          "output_type": "stream",
          "text": [
            "3.14 \n"
          ]
        }
      ],
      "source": [
        "#s2 = \"value1 = %.5f. value2 = %.2f\" % (3.1415910578, 1.5654654654)\n",
        "pi=3.141591057898765423769807654327689\n",
        "num = \"%.2f \" % (pi)\n",
        "print(num)\n",
        "\n",
        "\n"
      ]
    },
    {
      "cell_type": "markdown",
      "metadata": {
        "id": "Lipm64IAO3ws"
      },
      "source": [
        "El mismo string puede ser definido usando el nuevo estilo de formato"
      ]
    },
    {
      "cell_type": "code",
      "execution_count": 101,
      "metadata": {
        "colab": {
          "base_uri": "https://localhost:8080/"
        },
        "id": "UIrPrXN-OTVg",
        "outputId": "adf02a1a-5acf-4116-cf7a-20a36cbbc5b5"
      },
      "outputs": [
        {
          "name": "stdout",
          "output_type": "stream",
          "text": [
            "value1 = 3.142, value2 = 1.5\n"
          ]
        },
        {
          "data": {
            "text/plain": [
              "str"
            ]
          },
          "execution_count": 101,
          "metadata": {},
          "output_type": "execute_result"
        }
      ],
      "source": [
        "s3 = 'value1 = {:.3f}, value2 = {:.1f}'.format(3.1415, 1.5097865)\n",
        "\n",
        "print(s3)\n",
        "type(s3)"
      ]
    },
    {
      "cell_type": "markdown",
      "metadata": {
        "id": "6dW4ET9EWgVR"
      },
      "source": [
        "<p><a name=\"alist\"></a></p>\n",
        "\n",
        "### 1.3.1. Listas\n",
        "\n",
        "[[Secciones]](#sections)\n",
        "\n",
        "Las listas son muy similares a los `strings` con la excepción de que los elementos de una lista pueden ser de cualquier tipo.\n",
        "\n",
        "La sintaxis en Python es de la forma `[...]`."
      ]
    },
    {
      "cell_type": "code",
      "execution_count": 114,
      "metadata": {
        "colab": {
          "base_uri": "https://localhost:8080/"
        },
        "id": "Hwhv9wrHYJzg",
        "outputId": "4e53f5e8-1174-4a36-97a7-7accddd1e716"
      },
      "outputs": [
        {
          "name": "stdout",
          "output_type": "stream",
          "text": [
            "<class 'list'>\n",
            "['indice 0', 'indice 1', 'indice 2', 'indice 3', 'indidce 4', 'indice 5']\n"
          ]
        }
      ],
      "source": [
        "conjuntos =set()\n",
        "listas= []\n",
        "tuplas = tuple()\n",
        "diccionarios =dict() , {}\n",
        "\n",
        "l=[\"indice 0\",\"indice 1\",\"indice 2\",\"indice 3\",\"indidce 4\",\"indice 5\"]\n",
        "l2=[1,2,3,4,5,6,7,8,9,10]\n",
        "print(type(l))\n",
        "print(l)"
      ]
    },
    {
      "cell_type": "markdown",
      "metadata": {
        "id": "3i2WvZruYaKL"
      },
      "source": [
        "Podemos usar las mismas técnicas de *slicing* que usamos en los *strings"
      ]
    },
    {
      "cell_type": "code",
      "execution_count": 103,
      "metadata": {
        "colab": {
          "base_uri": "https://localhost:8080/"
        },
        "id": "9leGZY_AYWJM",
        "outputId": "39c07596-839c-4fa7-bc3d-82288e400ba4"
      },
      "outputs": [
        {
          "name": "stdout",
          "output_type": "stream",
          "text": [
            "[50, 1, 2, 3, 5, 6]\n",
            "[50, 1]\n",
            "[50, 3]\n"
          ]
        }
      ],
      "source": [
        "print(l[:]) # imprime toda la lista\n",
        "print(l[0:2]) # imprime los elemento\n",
        "print(l[::3])"
      ]
    },
    {
      "cell_type": "markdown",
      "metadata": {
        "id": "zVrXQ4WzTP28"
      },
      "source": [
        "**A los usuarios de MATLAB**: Recuerden que la indexación inicia en 0\n",
        "\n"
      ]
    },
    {
      "cell_type": "code",
      "execution_count": 115,
      "metadata": {
        "colab": {
          "base_uri": "https://localhost:8080/"
        },
        "id": "vu4jcI9UZQIk",
        "outputId": "8bd721cf-ea5c-49e3-d444-03025570c263"
      },
      "outputs": [
        {
          "data": {
            "text/plain": [
              "8"
            ]
          },
          "execution_count": 115,
          "metadata": {},
          "output_type": "execute_result"
        }
      ],
      "source": [
        "l2[7]"
      ]
    },
    {
      "cell_type": "markdown",
      "metadata": {
        "id": "_5HL_B8fUH8d"
      },
      "source": [
        "Los elementos de una lista no tiene que ser todos del mismo "
      ]
    },
    {
      "cell_type": "code",
      "execution_count": 116,
      "metadata": {
        "id": "H0S4yEMrTyyT"
      },
      "outputs": [],
      "source": [
        "l = [1, 'a', 1.0, True, 8**2,s,[\"mora\", \"lulo\"]]"
      ]
    },
    {
      "cell_type": "code",
      "execution_count": null,
      "metadata": {},
      "outputs": [],
      "source": []
    },
    {
      "cell_type": "markdown",
      "metadata": {
        "id": "FQGdlXIYYlm9"
      },
      "source": [
        "Las listas en Python inhomogeneas y anidadas arbitrariamente:\n"
      ]
    },
    {
      "cell_type": "code",
      "execution_count": 117,
      "metadata": {
        "colab": {
          "base_uri": "https://localhost:8080/"
        },
        "id": "sjoWVomcYNrt",
        "outputId": "b9dadc4f-075f-4c98-86a0-3593c3fdf65a"
      },
      "outputs": [
        {
          "data": {
            "text/plain": [
              "[1, [2, [3, [4, [5]]]]]"
            ]
          },
          "execution_count": 117,
          "metadata": {},
          "output_type": "execute_result"
        }
      ],
      "source": [
        "nested_list = [1, [2, [3, [4, [5]]]]]\n",
        "nested_list"
      ]
    },
    {
      "cell_type": "markdown",
      "metadata": {
        "id": "yqiXn-TuZ744"
      },
      "source": [
        "Las listas desempeñan un papel muy importante en Python y, por ejemplo, se utilizan en bucles y otras estructuras de control de flujo (que se analizan a continuación). Hay una serie de funciones convenientes para generar listas de varios tipos, por ejemplo, la función de `range` (tenga en cuenta la función `range` de Python 3 crea un generador, por lo que tiene que usar la función de lista para obtener una lista):"
      ]
    },
    {
      "cell_type": "code",
      "execution_count": 121,
      "metadata": {
        "colab": {
          "base_uri": "https://localhost:8080/"
        },
        "id": "UQ0HNFX2bpBz",
        "outputId": "32fefedd-d570-437f-9765-3d8559903e48"
      },
      "outputs": [
        {
          "data": {
            "text/plain": [
              "[5, 6, 7, 8, 9]"
            ]
          },
          "execution_count": 121,
          "metadata": {},
          "output_type": "execute_result"
        }
      ],
      "source": [
        "inicio = 5\n",
        "final = 10\n",
        "paso = 1\n",
        "\n",
        "list(range(inicio, final, paso))\n"
      ]
    },
    {
      "cell_type": "code",
      "execution_count": 122,
      "metadata": {
        "colab": {
          "base_uri": "https://localhost:8080/"
        },
        "id": "EOFMKZP-bzoL",
        "outputId": "d7cb8b04-4a4c-49a2-a859-1c81047a1293"
      },
      "outputs": [
        {
          "name": "stdout",
          "output_type": "stream",
          "text": [
            "Hola mundo\n"
          ]
        },
        {
          "data": {
            "text/plain": [
              "['H', 'o', 'l', 'a', ' ', 'm', 'u', 'n', 'd', 'o']"
            ]
          },
          "execution_count": 122,
          "metadata": {},
          "output_type": "execute_result"
        }
      ],
      "source": [
        "# Convertir un string en una lista casteando mediante list\n",
        "s = \"Hola mundo\"\n",
        "print(s)\n",
        "\n",
        "s2 = list(s)\n",
        "\n",
        "s2"
      ]
    },
    {
      "cell_type": "code",
      "execution_count": 126,
      "metadata": {
        "colab": {
          "base_uri": "https://localhost:8080/"
        },
        "id": "jYRGhv46cGAu",
        "outputId": "0c69eeb8-16e5-4052-a71b-8ed93c73ccbf"
      },
      "outputs": [
        {
          "name": "stdout",
          "output_type": "stream",
          "text": [
            "[' ', 'H', 'a', 'd', 'l', 'm', 'n', 'o', 'o', 'u']\n"
          ]
        }
      ],
      "source": [
        "# Organización de la lista\n",
        "s2.sort()\n",
        "\n",
        "print(s2)"
      ]
    },
    {
      "cell_type": "markdown",
      "metadata": {
        "id": "ZawsQcrodRAw"
      },
      "source": [
        "***Adición, inserción, modificación y remoción de elementos de una lista***\n"
      ]
    },
    {
      "cell_type": "code",
      "execution_count": 3,
      "metadata": {
        "colab": {
          "base_uri": "https://localhost:8080/"
        },
        "id": "o-s0S91Lc01M",
        "outputId": "76dd1c94-4394-4e2c-fab2-855f676afdca"
      },
      "outputs": [
        {
          "name": "stdout",
          "output_type": "stream",
          "text": [
            "['A', 'B', 'x', 9, 'D', 'e']\n"
          ]
        }
      ],
      "source": [
        "# Creación de una lista vacía\n",
        "l = []\n",
        "\n",
        "# Adición de elementos usando `append`\n",
        "l.append(\"A\")\n",
        "l.append(\"B\")\n",
        "l.append(\"x\")\n",
        "l.append(9)\n",
        "l.append(\"D\")\n",
        "l.append(\"e\")\n",
        "\n",
        "\n",
        "print(l)"
      ]
    },
    {
      "cell_type": "code",
      "execution_count": null,
      "metadata": {},
      "outputs": [],
      "source": [
        "a=2 #int\n",
        "a=2. #float\n",
        "a=\"2\" #string\n",
        "a=2+3j #complejo\n",
        "a=True #boolean\n",
        "a=None #NoneType\n",
        "a=[1,2,3] #list\n",
        "a=(1,2,3) #tuple\n",
        "a={1,2,3} #set\n",
        "a={\"clave1\":1,\"clave2\":2} #dict\n",
        "a=range(10) #range\n",
        "a=print #builtin_function_or_method\n",
        "a=abs #builtin_function_or_method\n",
        "\n"
      ]
    },
    {
      "cell_type": "markdown",
      "metadata": {
        "id": "saJ9epsOeOxx"
      },
      "source": [
        "Podemos modificar una lista al asignar nuevos valores a elementos de esa lista, es decir, las listas son *mutables*.\n",
        "\n"
      ]
    },
    {
      "cell_type": "code",
      "execution_count": 4,
      "metadata": {
        "colab": {
          "base_uri": "https://localhost:8080/"
        },
        "id": "E-fLwhIBd_HN",
        "outputId": "dbb41838-6a6f-4399-aa15-8a6830383a1a"
      },
      "outputs": [
        {
          "name": "stdout",
          "output_type": "stream",
          "text": [
            "['A', 'p', 't', 'xxx', 'D', 'e', 'B']\n"
          ]
        }
      ],
      "source": [
        "l[1] = \"p\"\n",
        "l[2] = \"t\"\n",
        "l[3] = \"xxx\"\n",
        "l.append(\"B\")\n",
        "\n",
        "print(l)"
      ]
    },
    {
      "cell_type": "code",
      "execution_count": 5,
      "metadata": {
        "colab": {
          "base_uri": "https://localhost:8080/"
        },
        "id": "TiowOaCUey5H",
        "outputId": "c4e27e55-6fdd-4757-fde8-e3add0ba227f"
      },
      "outputs": [
        {
          "name": "stdout",
          "output_type": "stream",
          "text": [
            "['x', 'y', 'p', 't', 'xxx', 'D', 'e', 'B']\n"
          ]
        }
      ],
      "source": [
        "l[0:1] = [\"x\", \"y\"]\n",
        "\n",
        "print(l)"
      ]
    },
    {
      "cell_type": "markdown",
      "metadata": {
        "id": "91f_Y7k-fy2E"
      },
      "source": [
        "Inserción de elementos mediante `insert`.\n"
      ]
    },
    {
      "cell_type": "code",
      "execution_count": 6,
      "metadata": {
        "colab": {
          "base_uri": "https://localhost:8080/"
        },
        "id": "UBkhSj1le9Ec",
        "outputId": "1128fcb6-c890-411d-9fe6-7b7e85caee8c"
      },
      "outputs": [
        {
          "name": "stdout",
          "output_type": "stream",
          "text": [
            "['i', 'n', 's', 'e', 'r', 't', 'x', 'y', 'p', 't', 'xxx', 'D', 'e', 'B']\n"
          ]
        }
      ],
      "source": [
        "l.insert(0, \"i\")\n",
        "l.insert(1, \"n\")\n",
        "l.insert(2, \"s\")\n",
        "l.insert(3, \"e\")\n",
        "l.insert(4, \"r\")\n",
        "l.insert(5, \"t\")\n",
        "\n",
        "print(l)"
      ]
    },
    {
      "cell_type": "markdown",
      "metadata": {
        "id": "A0JcCM5rgL0u"
      },
      "source": [
        "Remoción del primer elemento de un valor específico mendiante `remove`\n",
        "\n"
      ]
    },
    {
      "cell_type": "code",
      "execution_count": 10,
      "metadata": {
        "colab": {
          "base_uri": "https://localhost:8080/"
        },
        "id": "DDPYDJiEgA_d",
        "outputId": "b98392d0-ee99-4364-e791-28bf568cfada"
      },
      "outputs": [
        {
          "name": "stdout",
          "output_type": "stream",
          "text": [
            "No se puede eliminar el elemento de la lista\n"
          ]
        }
      ],
      "source": [
        "\n",
        "try:\n",
        "    l.remove(\"i\")\n",
        "    print(l)\n",
        "except:\n",
        "    print(\"No se puede eliminar el elemento de la lista\")\n"
      ]
    },
    {
      "cell_type": "markdown",
      "metadata": {
        "id": "D3vNk4hzgkS_"
      },
      "source": [
        "Remoción de un elemento en una posición específica usando `del`\n",
        "\n"
      ]
    },
    {
      "cell_type": "code",
      "execution_count": 14,
      "metadata": {
        "colab": {
          "base_uri": "https://localhost:8080/"
        },
        "id": "cpHwJ3qrgfjW",
        "outputId": "5678918a-8373-4ee0-dfcd-f56d6a6ddbac"
      },
      "outputs": [
        {
          "ename": "IndexError",
          "evalue": "list assignment index out of range",
          "output_type": "error",
          "traceback": [
            "\u001b[1;31m---------------------------------------------------------------------------\u001b[0m",
            "\u001b[1;31mIndexError\u001b[0m                                Traceback (most recent call last)",
            "Cell \u001b[1;32mIn[14], line 1\u001b[0m\n\u001b[1;32m----> 1\u001b[0m \u001b[38;5;28;01mdel\u001b[39;00m \u001b[43ml\u001b[49m\u001b[43m[\u001b[49m\u001b[38;5;241;43m7\u001b[39;49m\u001b[43m]\u001b[49m\n\u001b[0;32m      2\u001b[0m \u001b[38;5;28;01mdel\u001b[39;00m l[\u001b[38;5;241m6\u001b[39m]\n\u001b[0;32m      4\u001b[0m \u001b[38;5;28mprint\u001b[39m(l)\n",
            "\u001b[1;31mIndexError\u001b[0m: list assignment index out of range"
          ]
        }
      ],
      "source": [
        "del l[7]\n",
        "del l[6]\n",
        "\n",
        "print(l)"
      ]
    },
    {
      "cell_type": "markdown",
      "metadata": {
        "id": "eGNjSLD5hAZJ"
      },
      "source": [
        "<p><a name=\"tuples\"></a></p>\n",
        "\n",
        "### 1.3.2. Tuplas\n",
        "\n",
        "[[Secciones]](#sections)\n",
        "\n",
        "Las tuplas son como las listas, excepto que estas no pueden ser modificadas una vez se han creado, es decir, son inmutables.\n",
        "\n",
        "En Python, las tuplas son creadas usando la sintaxis (..., ..., ...), incluso ..., ...:"
      ]
    },
    {
      "cell_type": "code",
      "execution_count": 15,
      "metadata": {
        "colab": {
          "base_uri": "https://localhost:8080/"
        },
        "id": "bgEZfnRug28T",
        "outputId": "23c3fcbd-0969-4896-d05e-7866263df541"
      },
      "outputs": [
        {
          "name": "stdout",
          "output_type": "stream",
          "text": [
            "<class 'tuple'>\n",
            "(10, 20)\n"
          ]
        }
      ],
      "source": [
        "ejemplo = tuple()\n",
        "point = (10, 20)\n",
        "\n",
        "print(type(point))\n",
        "print(point)\n"
      ]
    },
    {
      "cell_type": "markdown",
      "metadata": {
        "id": "Z5icqhC3iQ2-"
      },
      "source": [
        "Si intentamos asignar un nuevo valor a un elemento de la tupla, obtenemos un error:\n",
        "\n"
      ]
    },
    {
      "cell_type": "code",
      "execution_count": 19,
      "metadata": {
        "colab": {
          "base_uri": "https://localhost:8080/"
        },
        "id": "JJiZW6yth9UR",
        "outputId": "c55f76a4-c5cf-496d-8744-ccbcf99e30b8"
      },
      "outputs": [
        {
          "name": "stdout",
          "output_type": "stream",
          "text": [
            "Type: 'tuple' object does not support item assignment\n"
          ]
        }
      ],
      "source": [
        "\n",
        "try:\n",
        "    point[0] = 20\n",
        "except(TypeError) as er:\n",
        "    print(\"Type:\", er)\n",
        "else:\n",
        "    raise\n"
      ]
    },
    {
      "cell_type": "markdown",
      "metadata": {
        "id": "5VnTnXrfjPBJ"
      },
      "source": [
        "<p><a name=\"diccionarios\"></a></p>\n",
        "\n",
        "### 1.3.3. Diccionarios\n",
        "\n",
        "[[Secciones]](#sections)\n",
        "\n",
        "Los diccionarios son también parecidos a las listas, excepto que cada elemento es una pareja clave-valor. La sintaxis en los diccionarios es de la forma {key1 : value1, ...}:\n",
        "\n"
      ]
    },
    {
      "cell_type": "code",
      "execution_count": 26,
      "metadata": {
        "colab": {
          "base_uri": "https://localhost:8080/"
        },
        "id": "Rdi35F11idbZ",
        "outputId": "7fbfa92c-5473-4b53-e4d3-75703cdc13df"
      },
      "outputs": [
        {
          "name": "stdout",
          "output_type": "stream",
          "text": [
            "{True: 'Juan', (3, 4): 'Marco', 3.5: 'Camilo', 'maria': 'Jimena'}\n"
          ]
        }
      ],
      "source": [
        "params = {\"edad\" : [1.0,2,3],\n",
        "          \"ciudad\" : \"medellin\",\n",
        "          \"parameter3\" : [1.0,2,3]}\n",
        "v1 = [True,(3,4),3.5,\"maria\",point]\n",
        "v2 = [\"Juan\", \"Marco\",\"Camilo\", \"Jimena\"]\n",
        "dic = dict(zip(v1, v2))\n",
        "#print(type(dic))\n",
        "#print(type(params))\n",
        "#print(params)\n",
        "print(dic)\n",
        "#diccionario_vacio=dict()\n",
        "#diccionario_vacio2={}"
      ]
    },
    {
      "cell_type": "markdown",
      "metadata": {
        "id": "2PZL5oYdktwF"
      },
      "source": [
        "A las entradas de los diccionarios solo puede accerderse mediante el nombre de la clave.\n"
      ]
    },
    {
      "cell_type": "code",
      "execution_count": 35,
      "metadata": {
        "colab": {
          "base_uri": "https://localhost:8080/",
          "height": 36
        },
        "id": "93n0akRtj8nX",
        "outputId": "0bd26a16-ed3a-4156-b105-bf5b2e1027d9"
      },
      "outputs": [
        {
          "name": "stdout",
          "output_type": "stream",
          "text": [
            "['edad', 'ciudad', 'parameter3']\n"
          ]
        }
      ],
      "source": [
        "a=list(params.keys())\n",
        "#a=list(s)\n",
        "print((a))"
      ]
    },
    {
      "cell_type": "code",
      "execution_count": 39,
      "metadata": {
        "colab": {
          "base_uri": "https://localhost:8080/"
        },
        "id": "OFMQ9a7SlAMO",
        "outputId": "15e7b745-1b89-426e-f6c2-4dba576824cf"
      },
      "outputs": [
        {
          "name": "stdout",
          "output_type": "stream",
          "text": [
            "este es el parameter3 =[1.0, 2, 3]\n"
          ]
        }
      ],
      "source": [
        "#print(\"parameter1 = \" + str(params[\"parameter1\"]))\n",
        "#print(\"parameter2 = \" + str(params[\"parameter2\"]))\n",
        "print(f'este es el parameter3 ={ params[\"parameter3\"]}')"
      ]
    },
    {
      "cell_type": "code",
      "execution_count": 40,
      "metadata": {
        "colab": {
          "base_uri": "https://localhost:8080/"
        },
        "id": "VKmRpnJLlKQE",
        "outputId": "3caf83a6-5fdf-42f9-ccc5-055bb04cba79"
      },
      "outputs": [
        {
          "name": "stdout",
          "output_type": "stream",
          "text": [
            "parameter1 = A\n",
            "parameter2 = B\n",
            "parameter3 = [1.0, 2, 3]\n",
            "parameter4 = D\n"
          ]
        }
      ],
      "source": [
        "params[\"parameter1\"] = \"A\"\n",
        "params[\"parameter2\"] = \"B\"\n",
        "\n",
        "# add a new entry\n",
        "params[\"parameter4\"] = \"D\"\n",
        "\n",
        "print(\"parameter1 = \" + str(params[\"parameter1\"]))\n",
        "print(\"parameter2 = \" + str(params[\"parameter2\"]))\n",
        "print(\"parameter3 = \" + str(params[\"parameter3\"]))\n",
        "print(\"parameter4 = \" + str(params[\"parameter4\"]))"
      ]
    },
    {
      "cell_type": "code",
      "execution_count": 41,
      "metadata": {},
      "outputs": [
        {
          "name": "stdout",
          "output_type": "stream",
          "text": [
            "{'edad': [1.0, 2, 3], 'ciudad': 'medellin', 'parameter3': [1.0, 2, 3], 'parameter1': 'A', 'parameter2': 'B', 'parameter4': 'D'}\n"
          ]
        }
      ],
      "source": [
        "print(params)"
      ]
    },
    {
      "cell_type": "markdown",
      "metadata": {
        "id": "Hsl-lxMFtsmz"
      },
      "source": [
        "<p><a name=\"cond\"></a></p>\n",
        "\n",
        "### 1.3.4. Condicionales: if, elif, else\n",
        "La sintaxis en Python para la ejecución de una condición  consiste en las palabras claves `if`, `elif` (else if), `else`:"
      ]
    },
    {
      "cell_type": "code",
      "execution_count": 45,
      "metadata": {
        "colab": {
          "base_uri": "https://localhost:8080/"
        },
        "id": "CijMmkrpnwvN",
        "outputId": "cc5523d9-cdb6-467e-ca1b-7ee1525922e3"
      },
      "outputs": [
        {
          "name": "stdout",
          "output_type": "stream",
          "text": [
            "statement1 es menor \n"
          ]
        }
      ],
      "source": [
        "statement1 = float(input(\"ingrese valor: \"))\n",
        "statement2 = 100\n",
        "\n",
        "if statement1 < 100:\n",
        "    print(\"statement1 es menor \")\n",
        "\n",
        "elif statement2 == 100:\n",
        "    print(\"statement2 es igual\")\n",
        "\n",
        "else:\n",
        "    print(\"statement1 y statement2 son Falsos\")"
      ]
    },
    {
      "cell_type": "markdown",
      "metadata": {
        "id": "g4MYOnbjgLqz"
      },
      "source": [
        "También podemos tener sentencias if anidadas"
      ]
    },
    {
      "cell_type": "markdown",
      "metadata": {},
      "source": []
    },
    {
      "cell_type": "code",
      "execution_count": 47,
      "metadata": {
        "colab": {
          "base_uri": "https://localhost:8080/"
        },
        "id": "wzJJZCW5gUfl",
        "outputId": "ae1380b6-f54e-42ca-83c7-5a6bf3dc5c36"
      },
      "outputs": [
        {
          "name": "stdout",
          "output_type": "stream",
          "text": [
            "El valor es mayor no igual a 200\n"
          ]
        }
      ],
      "source": [
        "val = 200\n",
        "if val < 200:\n",
        "  print(\"El valor es menor a 200\")\n",
        "  if val == 150:\n",
        "    print(\"es 150\")\n",
        "  elif val == 100:\n",
        "    print(\"es 100\")\n",
        "  elif val == 50:\n",
        "    print(\"es 50\")\n",
        "  elif val < 50:\n",
        "    print(\"el valor es menor a 50\")\n",
        "else:\n",
        "  print(\"El valor es mayor no igual a 200\")"
      ]
    },
    {
      "cell_type": "markdown",
      "metadata": {
        "id": "IxgWwr6vYMCM"
      },
      "source": [
        "<p><a name=\"iter\"></a></p>\n",
        "\n",
        "## 1.3. Iteraciones y ciclos lógicos\n",
        "\n",
        "En general, las instrucciones se ejecutan secuencialmente: la primera instrucción en una función se ejecuta primero, seguida de la segunda, y así sucesivamente. Puede haber una situación en la que necesite ejecutar un bloque de código varias veces.  Una instrucción de bucle nos permite ejecutar una instrucción o un grupo de instrucciones varias veces."
      ]
    },
    {
      "cell_type": "markdown",
      "metadata": {
        "id": "bU9DzFzicuXY"
      },
      "source": [
        "<p><a name=\"cicl\"></a></p>\n",
        "\n",
        "### 1.3.1. Ciclos for y while"
      ]
    },
    {
      "cell_type": "markdown",
      "metadata": {
        "id": "A7mB-8Ldo9O2"
      },
      "source": [
        "El ciclo for ejecuta una secuencia de sentencias un número determinado de veces"
      ]
    },
    {
      "cell_type": "code",
      "execution_count": 52,
      "metadata": {
        "colab": {
          "base_uri": "https://localhost:8080/"
        },
        "id": "hw_Zr8GljpKi",
        "outputId": "557be2ea-724b-43c2-fd41-25536f28cb6e"
      },
      "outputs": [
        {
          "name": "stdout",
          "output_type": "stream",
          "text": [
            "range(0, 5)\n"
          ]
        }
      ],
      "source": [
        "a=range(5)\n",
        "print(a)"
      ]
    },
    {
      "cell_type": "code",
      "execution_count": 53,
      "metadata": {
        "colab": {
          "base_uri": "https://localhost:8080/"
        },
        "id": "HGzBCk8mczIu",
        "outputId": "c9a52582-fc4f-40d2-d3cc-794a36be2665"
      },
      "outputs": [
        {
          "name": "stdout",
          "output_type": "stream",
          "text": [
            "i=0suma= 0\n",
            "i=1suma= 1\n",
            "i=2suma= 3\n",
            "i=3suma= 6\n",
            "i=4suma= 10\n",
            "i=5suma= 15\n",
            "15\n"
          ]
        }
      ],
      "source": [
        "suma=0\n",
        "for i in range(6):\n",
        "  suma+=i\n",
        "  print('i='+ str(i) +'suma=',suma)\n",
        "print(suma)"
      ]
    },
    {
      "cell_type": "markdown",
      "metadata": {
        "id": "0leX5evmkofI"
      },
      "source": [
        "También podemos iterar sobre listas"
      ]
    },
    {
      "cell_type": "code",
      "execution_count": 56,
      "metadata": {
        "colab": {
          "base_uri": "https://localhost:8080/"
        },
        "id": "3C6vX-KOkrH8",
        "outputId": "9176ec62-8a2d-42fc-e198-57ff079923b2"
      },
      "outputs": [
        {
          "name": "stdout",
          "output_type": "stream",
          "text": [
            "5\n",
            "1\n",
            "['a', 'e', 'i', 'o', 'u']\n"
          ]
        },
        {
          "data": {
            "text/plain": [
              "['a', 'i', 'o', 'u']"
            ]
          },
          "execution_count": 56,
          "metadata": {},
          "output_type": "execute_result"
        }
      ],
      "source": [
        "vocales=[\"a\",\"e\",\"i\", \"o\",\"u\"]\n",
        "print(len(vocales))\n",
        "for i in range(0,len(vocales)):\n",
        "  if vocales[i] == \"e\":\n",
        "    print(i)\n",
        "    v = i\n",
        "    print(vocales)\n",
        "vocales.pop(v)\n",
        "vocales\n"
      ]
    },
    {
      "cell_type": "code",
      "execution_count": 57,
      "metadata": {
        "colab": {
          "base_uri": "https://localhost:8080/"
        },
        "id": "c0_hIVZhKxwa",
        "outputId": "58d1b194-2359-4bc9-96a8-8df06e5c1a50"
      },
      "outputs": [
        {
          "data": {
            "text/plain": [
              "['a', 'i', 'o', 'u']"
            ]
          },
          "execution_count": 57,
          "metadata": {},
          "output_type": "execute_result"
        }
      ],
      "source": [
        "vocales"
      ]
    },
    {
      "cell_type": "code",
      "execution_count": 60,
      "metadata": {
        "colab": {
          "base_uri": "https://localhost:8080/"
        },
        "id": "zx-Pfhtgk8Ah",
        "outputId": "d013e4ae-70cb-430e-9c17-9ff1c1371ae8"
      },
      "outputs": [
        {
          "name": "stdout",
          "output_type": "stream",
          "text": [
            "0 a\n",
            "1 i\n",
            "2 o\n",
            "3 u\n"
          ]
        }
      ],
      "source": [
        "for i in range(len(vocales)):\n",
        "  print (i,vocales[i])"
      ]
    },
    {
      "cell_type": "markdown",
      "metadata": {
        "id": "Oxq9vHErojz2"
      },
      "source": [
        "El ciclo while repite una sentencia o grupo de sentencias mientras una condición dada es TRUE. Prueba la condición antes de ejecutar el cuerpo del ciclo."
      ]
    },
    {
      "cell_type": "code",
      "execution_count": 61,
      "metadata": {
        "colab": {
          "base_uri": "https://localhost:8080/"
        },
        "id": "SiD67duwleAu",
        "outputId": "c9aef651-8190-4351-c0b0-e94556ded43e"
      },
      "outputs": [
        {
          "name": "stdout",
          "output_type": "stream",
          "text": [
            "c= 4 se cumple la condición\n",
            "c= 3 se cumple la condición\n",
            "c= 2 se cumple la condición\n",
            "c= 1 se cumple la condición\n"
          ]
        }
      ],
      "source": [
        "c = 4\n",
        "while c > 0:\n",
        "  print('c=',c,'se cumple la condición')\n",
        "  c-=1"
      ]
    },
    {
      "cell_type": "markdown",
      "metadata": {
        "id": "USL7zCWvpv6h"
      },
      "source": [
        "Podemos tener varias condiciones"
      ]
    },
    {
      "cell_type": "code",
      "execution_count": 62,
      "metadata": {
        "colab": {
          "base_uri": "https://localhost:8080/"
        },
        "id": "Mx9taaJUp4Gk",
        "outputId": "3ec86cd4-ed4a-4d05-b2c9-84ddb0195d9f"
      },
      "outputs": [
        {
          "name": "stdout",
          "output_type": "stream",
          "text": [
            "Voy a hacerlo 9 veces más\n",
            "Voy a hacerlo 8 veces más\n",
            "Voy a hacerlo 7 veces más\n",
            "Voy a hacerlo 6 veces más\n",
            "Voy a hacerlo 5 veces más\n",
            "Voy en 4\n",
            "Voy a hacerlo 3 veces más\n",
            "Voy a hacerlo 2 veces más\n",
            "Voy a hacerlo 1 veces más\n",
            "¡Este es el último!\n"
          ]
        }
      ],
      "source": [
        "c = 10\n",
        "while c > 0:\n",
        "  if c > 1 and c!=5:\n",
        "    print (\"Voy a hacerlo \"+str(c-1)+\" veces más\")\n",
        "  elif c==5:\n",
        "    print('Voy en '+str(c-1))\n",
        "  else:\n",
        "    print (\"¡Este es el último!\")\n",
        "  c -= 1 #c=c-1"
      ]
    },
    {
      "cell_type": "markdown",
      "metadata": {
        "id": "hOLaH_FrpXlJ"
      },
      "source": [
        "Podemos usar uno o más ciclos dentro de otro. Esto lo conocemos como ciclos anidados\n"
      ]
    },
    {
      "cell_type": "code",
      "execution_count": 63,
      "metadata": {
        "colab": {
          "base_uri": "https://localhost:8080/",
          "height": 187
        },
        "id": "cVhZf3jPpkRi",
        "outputId": "3e3660c6-3a76-409e-f8db-92918b2e924f"
      },
      "outputs": [
        {
          "name": "stdout",
          "output_type": "stream",
          "text": [
            "i: 0 j: 0\n",
            "i: 0 j: 1\n",
            "i: 0 j: 2\n",
            "i: 0 j: 3\n",
            "i: 0 j: 4\n",
            "i: 1 j: 0\n",
            "i: 1 j: 1\n",
            "i: 1 j: 2\n",
            "i: 1 j: 3\n",
            "i: 1 j: 4\n"
          ]
        }
      ],
      "source": [
        "for i in range(2):\n",
        "  for j in range(5):\n",
        "    print(\"i: %d j: %d\" %(i,j))"
      ]
    },
    {
      "cell_type": "markdown",
      "metadata": {
        "id": "9fPm2y08dG_4"
      },
      "source": [
        "<p><a name=\"contr\"></a></p>\n",
        "\n",
        "### 1.3.2. Sentencias de control de ciclo: break y continue.\n"
      ]
    },
    {
      "cell_type": "markdown",
      "metadata": {
        "id": "RXO98upa4bFY"
      },
      "source": [
        "Las sentencias de control de ciclo cambian la ejecución de su secuencia normal. Cuando la ejecución deja un ámbito, todos los objetos automáticos que se crearon en ese ámbito se destruyen."
      ]
    },
    {
      "cell_type": "markdown",
      "metadata": {
        "id": "YpKFrGYh5Rhx"
      },
      "source": [
        "La sentencia de control *break* termina el ciclo actual y reanuda la ejecución en la siguiente instrucción.\n",
        "\n"
      ]
    },
    {
      "cell_type": "code",
      "execution_count": 64,
      "metadata": {
        "colab": {
          "base_uri": "https://localhost:8080/"
        },
        "id": "yKQo-97mdNJw",
        "outputId": "e121e824-0c4c-4152-cbde-aa220ca868cd"
      },
      "outputs": [
        {
          "name": "stdout",
          "output_type": "stream",
          "text": [
            "a\n",
            "i\n"
          ]
        }
      ],
      "source": [
        "for i in vocales:\n",
        "  if i==\"o\":\n",
        "    break\n",
        "  print(i)"
      ]
    },
    {
      "cell_type": "markdown",
      "metadata": {
        "id": "GkNGlxJ46S8-"
      },
      "source": [
        "La sentencia de control *continue* rechaza todas las declaraciones restantes en la iteración actual del ciclo y mueve el control de nuevo a la parte superior de este\n",
        "\n",
        "\n"
      ]
    },
    {
      "cell_type": "code",
      "execution_count": 65,
      "metadata": {
        "colab": {
          "base_uri": "https://localhost:8080/"
        },
        "id": "KxBFJyYu6qiT",
        "outputId": "8b8c3149-d92d-4a64-d8de-4288217500fb"
      },
      "outputs": [
        {
          "name": "stdout",
          "output_type": "stream",
          "text": [
            "a\n",
            "i\n",
            "u\n"
          ]
        }
      ],
      "source": [
        "for i in vocales:\n",
        "  if i==\"o\":\n",
        "    continue\n",
        "  print(i)"
      ]
    },
    {
      "cell_type": "markdown",
      "metadata": {
        "id": "vpfhHZd9eiOF"
      },
      "source": [
        "<p><a name=\"func\"></a></p>\n",
        "\n",
        "## 1.4. Funciones y clases"
      ]
    },
    {
      "cell_type": "markdown",
      "metadata": {
        "id": "UQMFQFuy9XCo"
      },
      "source": [
        "<p><a name=\"funci\"></a></p>\n",
        "\n",
        "### 1.4.1. Funciones\n",
        "\n",
        "Una función es un bloque de código organizado y reutilizable que se utiliza para realizar una única acción relacionada. Las funciones proporcionan una mejor modularidad para su aplicación y un alto grado de reutilización de código.\n",
        "\n",
        ">`def Nombre(arg1,arg2,...):`\n",
        ">> `sentencias`"
      ]
    },
    {
      "cell_type": "markdown",
      "metadata": {
        "id": "3aNX6kn2Cjuq"
      },
      "source": [
        "Definamos la función exponencial $a^b$"
      ]
    },
    {
      "cell_type": "code",
      "execution_count": 72,
      "metadata": {
        "colab": {
          "base_uri": "https://localhost:8080/"
        },
        "id": "9GaLlcUceoC2",
        "outputId": "3560e56b-a3d7-4dc5-daea-3452ab251423"
      },
      "outputs": [
        {
          "data": {
            "text/plain": [
              "256"
            ]
          },
          "execution_count": 72,
          "metadata": {},
          "output_type": "execute_result"
        }
      ],
      "source": [
        "def Exp(a,b):\n",
        "  exponente = a**b\n",
        "  return exponente\n",
        "  \n",
        "Exp(2,8)"
      ]
    },
    {
      "cell_type": "code",
      "execution_count": 76,
      "metadata": {},
      "outputs": [
        {
          "data": {
            "text/plain": [
              "2.2360679775"
            ]
          },
          "execution_count": 76,
          "metadata": {},
          "output_type": "execute_result"
        }
      ],
      "source": [
        "def raiz_cuadrada(a):\n",
        "    return float(\"%.10f\"%(a**0.5))\n",
        "raiz_cuadrada(5)"
      ]
    },
    {
      "cell_type": "markdown",
      "metadata": {
        "id": "69ukeYx6CweR"
      },
      "source": [
        "La sentencia *return* termina la función,  devolviendo opcionalmente uno o varios valores. Una declaración de retorno sin argumentos es lo mismo que devolver *none* (como en el caso anterior)"
      ]
    },
    {
      "cell_type": "code",
      "execution_count": 77,
      "metadata": {
        "colab": {
          "base_uri": "https://localhost:8080/"
        },
        "id": "cgWrwPmf-MCk",
        "outputId": "2833c216-c381-4ae7-899b-529158c5bbe0"
      },
      "outputs": [
        {
          "name": "stdout",
          "output_type": "stream",
          "text": [
            "4 <class 'int'>\n",
            "(4, 5, 6) <class 'tuple'>\n"
          ]
        }
      ],
      "source": [
        "def Exp(a,b):\n",
        "  return a**b\n",
        "  \n",
        "def Exp2(a,b):\n",
        "  exp = a**b\n",
        "  exp1 = a**b+1\n",
        "  exp2 = a**b+2\n",
        "  return exp, exp1, exp2\n",
        "\n",
        "print(Exp(2,2),type(Exp(2,2)))\n",
        "\n",
        "print(Exp2(2,2),type(Exp2(2,2)))\n"
      ]
    },
    {
      "cell_type": "markdown",
      "metadata": {
        "id": "-loYl6I1JaGB"
      },
      "source": [
        "Los atributos son como propiedades que queremos añadir a la clase "
      ]
    },
    {
      "cell_type": "markdown",
      "metadata": {
        "id": "J7ZQBUmLX-5W"
      },
      "source": [
        "<p><a name=\"inout\"></a></p>\n",
        "\n",
        "## 1.5. Archivos de entrada y salida"
      ]
    },
    {
      "cell_type": "markdown",
      "metadata": {
        "id": "l77fqeASuu8M"
      },
      "source": [
        "<p><a name=\"lecte\"></a></p>\n",
        "\n",
        "### 1.5.1. Lectura de entrada de teclado\n",
        "\n",
        "Python proporciona una función integrada <code>input()</code> para leer una línea de texto de la entrada estándar"
      ]
    },
    {
      "cell_type": "code",
      "execution_count": 78,
      "metadata": {
        "colab": {
          "base_uri": "https://localhost:8080/"
        },
        "id": "_BlE3ChRwLWw",
        "outputId": "147054bf-9559-4467-9bfa-75471d2ffd8b"
      },
      "outputs": [
        {
          "name": "stdout",
          "output_type": "stream",
          "text": [
            "El número que ingresaste es: 565464654.0\n"
          ]
        },
        {
          "data": {
            "text/plain": [
              "float"
            ]
          },
          "execution_count": 78,
          "metadata": {},
          "output_type": "execute_result"
        }
      ],
      "source": [
        "a = float(input('Ingresa un número '))\n",
        "print('El número que ingresaste es:',a)\n",
        "type(a)\n"
      ]
    },
    {
      "cell_type": "markdown",
      "metadata": {
        "id": "VdQ-axsMvc3j"
      },
      "source": [
        "\n",
        "independientemente de lo que ingrese como entrada, la función <code>input()</code> siempre lo convierte en una cadena de caracteres. Podemos utilizar las funciones <code>int()</code> y <code>float()</code> para obtener enteros y números de punto flotante respectivamente"
      ]
    },
    {
      "cell_type": "code",
      "execution_count": 80,
      "metadata": {
        "colab": {
          "base_uri": "https://localhost:8080/",
          "height": 85
        },
        "id": "PiGCw4Hhvjle",
        "outputId": "df5dbdd0-2247-4ea6-8c2b-1a077396e1de"
      },
      "outputs": [
        {
          "name": "stdout",
          "output_type": "stream",
          "text": [
            "5 <class 'int'>\n",
            "5.0 <class 'float'>\n"
          ]
        }
      ],
      "source": [
        "numero_entero = int(input('Ingresa in unúmero'))\n",
        "print(numero_entero,type(numero_entero))\n",
        "\n",
        "numero_pflotante = float(input('Ingresa un número'))\n",
        "print(numero_pflotante,type(numero_pflotante))"
      ]
    },
    {
      "cell_type": "markdown",
      "metadata": {
        "id": "LHzmX7lUFdzN"
      },
      "source": [
        "<p><a name=\"git\"></a></p>\n",
        "\n",
        "### 2 Github"
      ]
    },
    {
      "cell_type": "code",
      "execution_count": null,
      "metadata": {
        "colab": {
          "base_uri": "https://localhost:8080/",
          "height": 51
        },
        "id": "4vB7YMcLFhm7",
        "outputId": "39ef6f10-de14-49d4-8ac1-2bc6ed81cb01"
      },
      "outputs": [],
      "source": [
        "!git clone https://github.com/learn-co-curriculum/fibonacci-series.git"
      ]
    }
  ],
  "metadata": {
    "accelerator": "GPU",
    "colab": {
      "collapsed_sections": [],
      "name": "RepasoPython.ipynb",
      "provenance": []
    },
    "kernelspec": {
      "display_name": "Python 3",
      "language": "python",
      "name": "python3"
    },
    "language_info": {
      "codemirror_mode": {
        "name": "ipython",
        "version": 3
      },
      "file_extension": ".py",
      "mimetype": "text/x-python",
      "name": "python",
      "nbconvert_exporter": "python",
      "pygments_lexer": "ipython3",
      "version": "3.12.5"
    }
  },
  "nbformat": 4,
  "nbformat_minor": 0
}
