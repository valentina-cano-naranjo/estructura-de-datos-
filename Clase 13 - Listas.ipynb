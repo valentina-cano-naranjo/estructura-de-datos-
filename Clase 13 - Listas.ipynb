{
 "cells": [
  {
   "cell_type": "markdown",
   "metadata": {},
   "source": [
    "# Listas\n",
    "\n",
    "Python tiene varios tipos de datos compuestos y dentro de las secuencias, un tipo muy importante de secuencia son las listas.\n",
    "\n",
    "Entre las secuencias, el más versátil, es la lista. \n",
    "Para definir una, usted debe escribir es entre corchetes cuadrados, separando sus elementos con comas cada uno.\n",
    "\n",
    "La lista en Python son variables que almacenan arrays, internamente cada posición puede ser un tipo de datos distinto.\n",
    "\n",
    "Las listas en Python son:\n",
    "\n",
    "heterogéneas: pueden estar conformadas por elementos de distintos tipo, incluidos otras listas.\n",
    "mutables: sus elementos pueden modificarse.\n",
    "Una lista en Python es una estructura de datos formada por una secuencia ordenada de objetos.\n",
    "\n",
    "Los elementos de una lista pueden accederse mediante su índice, siendo 0 el índice del primer elemento."
   ]
  },
  {
   "cell_type": "code",
   "execution_count": null,
   "metadata": {},
   "outputs": [],
   "source": [
    "lista = [1, 2.5,[97987687,6,[\"aca\",54651]] ,'DevCode', [5, 6] ,[False,['no'],\"true\"],True,[345435,354354,'imprimame']]\n",
    "\n",
    "print(lista[1][1]) # 1\n",
    "print(lista[1]) # 2.5\n",
    "print(lista[2]) # DevCode\n",
    "print(lista[3]) # [5,6]\n",
    "print(lista[4]) # True\n",
    "print(\"------------------------\")\n",
    "print(lista[3]) # \n",
    "print(\"------------------------\")\n",
    "\n",
    "print(\"------------------------\")\n",
    "print(lista[2][2][0])\n",
    "print(\"------------------------\")\n",
    "print(lista[2][1]) # 6\n",
    "print(\"------------------------\")\n",
    "print(lista[1:4]) # [2.5,[97987687,6,[\"aca\",54651]] 'DevCode']\n",
    "print(\"------------------------\")\n",
    "print(lista[1:5]) # [2.5,[97987687,6,[\"aca\",54651]] 'DevCode', [5, 6]]\n",
    "print(lista[1:4:2]) # [2.5, 'DevCode']"
   ]
  },
  {
   "cell_type": "markdown",
   "metadata": {},
   "source": [
    "Una lista que no contiene ningún elemento se denomina lista vacía:"
   ]
  },
  {
   "cell_type": "code",
   "execution_count": null,
   "metadata": {},
   "outputs": [],
   "source": [
    "lista = []\n",
    "print(lista)\n",
    "ok=set()\n",
    "type(ok)\n"
   ]
  },
  {
   "cell_type": "markdown",
   "metadata": {},
   "source": [
    "Al definir una lista se puede hacer referencia a otras variables."
   ]
  },
  {
   "cell_type": "markdown",
   "metadata": {},
   "source": [
    "Como siempre, hay que tener cuidado al modificar una variable que se ha utilizado para definir otras variables, porque esto puede afectar al resto de variables:\n",
    "\n",
    "- Si se trata objetos inmutables, el resto de variables no resultan afectadas, como muestra el siguiente ejemplo:"
   ]
  },
  {
   "cell_type": "code",
   "execution_count": null,
   "metadata": {},
   "outputs": [],
   "source": [
    "nombre = \"Pepe\"\n",
    "edad = 25\n",
    "listas = [nombre, edad]\n",
    "listas"
   ]
  },
  {
   "cell_type": "code",
   "execution_count": null,
   "metadata": {},
   "outputs": [],
   "source": [
    "nombre = \"Juan\" # Queda la memoria cargada\n",
    "print(listas)"
   ]
  },
  {
   "cell_type": "markdown",
   "metadata": {},
   "source": [
    "Pero si se trata de objetos mutables y al modificar la variable se modifica el objeto, el resto de variables sí resultan afectadas, como muestra el siguiente ejemplo:"
   ]
  },
  {
   "cell_type": "code",
   "execution_count": 1,
   "metadata": {},
   "outputs": [
    {
     "data": {
      "text/plain": [
       "[['Ana', 'Bernardo'], [22, 21]]"
      ]
     },
     "execution_count": 1,
     "metadata": {},
     "output_type": "execute_result"
    }
   ],
   "source": [
    "nombres = [\"Ana\", \"Bernardo\"]\n",
    "edades = [22, 21]\n",
    "lista = [nombres, edades]\n",
    "lista"
   ]
  },
  {
   "cell_type": "code",
   "execution_count": 4,
   "metadata": {},
   "outputs": [
    {
     "ename": "IndexError",
     "evalue": "pop index out of range",
     "output_type": "error",
     "traceback": [
      "\u001b[1;31m---------------------------------------------------------------------------\u001b[0m",
      "\u001b[1;31mIndexError\u001b[0m                                Traceback (most recent call last)",
      "Cell \u001b[1;32mIn[4], line 1\u001b[0m\n\u001b[1;32m----> 1\u001b[0m \u001b[43mnombres\u001b[49m\u001b[38;5;241;43m.\u001b[39;49m\u001b[43mpop\u001b[49m\u001b[43m(\u001b[49m\u001b[38;5;241;43m1\u001b[39;49m\u001b[43m)\u001b[49m\n\u001b[0;32m      2\u001b[0m lista\n",
      "\u001b[1;31mIndexError\u001b[0m: pop index out of range"
     ]
    }
   ],
   "source": [
    "nombres.pop(1)\n",
    "lista"
   ]
  },
  {
   "cell_type": "code",
   "execution_count": 5,
   "metadata": {},
   "outputs": [
    {
     "data": {
      "text/plain": [
       "['pan con queso', 'huevos AAA', 8000, 22000]"
      ]
     },
     "execution_count": 5,
     "metadata": {},
     "output_type": "execute_result"
    }
   ],
   "source": [
    "factura = ['pan con queso', 'huevos AAA', 8000, 22000]\n",
    "factura"
   ]
  },
  {
   "cell_type": "code",
   "execution_count": 6,
   "metadata": {},
   "outputs": [
    {
     "data": {
      "text/plain": [
       "'pan con queso'"
      ]
     },
     "execution_count": 6,
     "metadata": {},
     "output_type": "execute_result"
    }
   ],
   "source": [
    "factura[0]"
   ]
  },
  {
   "cell_type": "code",
   "execution_count": 7,
   "metadata": {},
   "outputs": [
    {
     "data": {
      "text/plain": [
       "22000"
      ]
     },
     "execution_count": 7,
     "metadata": {},
     "output_type": "execute_result"
    }
   ],
   "source": [
    "factura[3]"
   ]
  },
  {
   "cell_type": "markdown",
   "metadata": {},
   "source": [
    "La función len() devuelve la longitud de la lista (su cantidad de elementos)."
   ]
  },
  {
   "cell_type": "code",
   "execution_count": 8,
   "metadata": {},
   "outputs": [
    {
     "data": {
      "text/plain": [
       "4"
      ]
     },
     "execution_count": 8,
     "metadata": {},
     "output_type": "execute_result"
    }
   ],
   "source": [
    "len(factura)"
   ]
  },
  {
   "cell_type": "markdown",
   "metadata": {},
   "source": [
    "Los índices de una lista inicia entonces de 0 hasta el tamaño de la lista menos uno (len(factura) - 1):"
   ]
  },
  {
   "cell_type": "code",
   "execution_count": 9,
   "metadata": {},
   "outputs": [
    {
     "data": {
      "text/plain": [
       "3"
      ]
     },
     "execution_count": 9,
     "metadata": {},
     "output_type": "execute_result"
    }
   ],
   "source": [
    "len(factura) - 1"
   ]
  },
  {
   "cell_type": "markdown",
   "metadata": {},
   "source": [
    "Pueden usarse también índices negativos, siendo -1 el índice del último elemento."
   ]
  },
  {
   "cell_type": "code",
   "execution_count": 11,
   "metadata": {},
   "outputs": [
    {
     "data": {
      "text/plain": [
       "22000"
      ]
     },
     "execution_count": 11,
     "metadata": {},
     "output_type": "execute_result"
    }
   ],
   "source": [
    "factura[-1]"
   ]
  },
  {
   "cell_type": "markdown",
   "metadata": {},
   "source": [
    "Los índices negativos van entonces de -1 (último elemento) a -len(factura) (primer elemento)."
   ]
  },
  {
   "cell_type": "code",
   "execution_count": 12,
   "metadata": {},
   "outputs": [
    {
     "data": {
      "text/plain": [
       "8000"
      ]
     },
     "execution_count": 12,
     "metadata": {},
     "output_type": "execute_result"
    }
   ],
   "source": [
    "factura = ['pan con queso', 'huevos AAA', 8000, 22000]\n",
    "factura[-len(factura)+2]"
   ]
  },
  {
   "cell_type": "markdown",
   "metadata": {},
   "source": [
    "A través de los índices, pueden cambiarse los elementos de una lista en el lugar."
   ]
  },
  {
   "cell_type": "code",
   "execution_count": 13,
   "metadata": {},
   "outputs": [
    {
     "data": {
      "text/plain": [
       "['pan con queso', 'carne', 8000, 20000]"
      ]
     },
     "execution_count": 13,
     "metadata": {},
     "output_type": "execute_result"
    }
   ],
   "source": [
    "factura[1] = \"carne\"\n",
    "factura[3] = 20000\n",
    "factura"
   ]
  },
  {
   "cell_type": "markdown",
   "metadata": {},
   "source": [
    "De esta forma se cambia el valor inicial de un elemento de la lista lo cual hacen una la lista mutable"
   ]
  },
  {
   "cell_type": "markdown",
   "metadata": {},
   "source": [
    "# Métodos\n",
    "\n",
    "El el objeto de tipo lista integra una serie de métodos integrados a continuación:"
   ]
  },
  {
   "cell_type": "markdown",
   "metadata": {},
   "source": [
    "# append()\n",
    "\n",
    "Este método agrega un elemento al final de una lista."
   ]
  },
  {
   "cell_type": "code",
   "execution_count": 14,
   "metadata": {},
   "outputs": [
    {
     "data": {
      "text/plain": [
       "[3.1, 'XP', 'Vista', 7, 'milenium', 10, 11, 98, 95, 2000, 'NT', 3.0]"
      ]
     },
     "execution_count": 14,
     "metadata": {},
     "output_type": "execute_result"
    }
   ],
   "source": [
    "versiones_windows = [3.1, \"XP\", \"Vista\", 7, \"milenium\",10,11,98,95,2000,\"NT\",3.0]\n",
    "versiones_windows"
   ]
  },
  {
   "cell_type": "code",
   "execution_count": 15,
   "metadata": {},
   "outputs": [
    {
     "data": {
      "text/plain": [
       "[3.1, 'XP', 'Vista', 7, 'milenium', 10, 11, 98, 95, 2000, 'NT', 3.0, 8.1]"
      ]
     },
     "execution_count": 15,
     "metadata": {},
     "output_type": "execute_result"
    }
   ],
   "source": [
    "versiones_windows.append(8.1)\n",
    "versiones_windows"
   ]
  },
  {
   "cell_type": "markdown",
   "metadata": {},
   "source": [
    "# count()\n",
    "\n",
    "Este método recibe un elemento como argumento, y cuenta la cantidad de veces que aparece en la lista."
   ]
  },
  {
   "cell_type": "code",
   "execution_count": 18,
   "metadata": {},
   "outputs": [],
   "source": [
    "versiones_windows = [3.1, \"XP\", \"Vista\", 7, \"milenium\",10,11,98,95,2000,\"NT\",3.0,7,98]\n"
   ]
  },
  {
   "cell_type": "code",
   "execution_count": 19,
   "metadata": {},
   "outputs": [
    {
     "name": "stdout",
     "output_type": "stream",
     "text": [
      "vista-> 1\n"
     ]
    }
   ],
   "source": [
    "print(\"vista->\", versiones_windows.count(\"Vista\"))"
   ]
  },
  {
   "cell_type": "code",
   "execution_count": 20,
   "metadata": {},
   "outputs": [
    {
     "name": "stdout",
     "output_type": "stream",
     "text": [
      "5 -> 0\n"
     ]
    }
   ],
   "source": [
    "print(\"5 ->\", versiones_windows.count(5))"
   ]
  },
  {
   "cell_type": "code",
   "execution_count": null,
   "metadata": {},
   "outputs": [],
   "source": [
    "print( \"2.5 ->\", versiones_windows.count(2.5))"
   ]
  },
  {
   "cell_type": "markdown",
   "metadata": {},
   "source": [
    "# extend()\n",
    "\n",
    "Este método extiende una lista agregando un iterable al final."
   ]
  },
  {
   "cell_type": "markdown",
   "metadata": {},
   "source": [
    "[4]\n",
    "\n"
   ]
  },
  {
   "cell_type": "code",
   "execution_count": 21,
   "metadata": {},
   "outputs": [
    {
     "data": {
      "text/plain": [
       "[2.1, 2.5, 3.6]"
      ]
     },
     "execution_count": 21,
     "metadata": {},
     "output_type": "execute_result"
    }
   ],
   "source": [
    "versiones_plone = [2.1, 2.5, 3.6]\n",
    "versiones_plone"
   ]
  },
  {
   "cell_type": "code",
   "execution_count": 22,
   "metadata": {},
   "outputs": [
    {
     "data": {
      "text/plain": [
       "[2.1, 2.5, 3.6, 2]"
      ]
     },
     "execution_count": 22,
     "metadata": {},
     "output_type": "execute_result"
    }
   ],
   "source": [
    "versiones_plone.extend({2:3})\n",
    "versiones_plone"
   ]
  },
  {
   "cell_type": "code",
   "execution_count": 23,
   "metadata": {},
   "outputs": [
    {
     "data": {
      "text/plain": [
       "[2.1, 2.5, 3.6, 2, 5, 6, 7, 8, 9]"
      ]
     },
     "execution_count": 23,
     "metadata": {},
     "output_type": "execute_result"
    }
   ],
   "source": [
    "\n",
    "versiones_plone.extend(range(5,10))\n",
    "versiones_plone\n",
    "\n",
    "\n",
    "\n"
   ]
  },
  {
   "cell_type": "markdown",
   "metadata": {},
   "source": [
    "# index()\n",
    "\n",
    "Este método recibe un elemento como argumento, y devuelve el índice de su primera aparición en la lista."
   ]
  },
  {
   "cell_type": "code",
   "execution_count": 28,
   "metadata": {},
   "outputs": [
    {
     "name": "stdout",
     "output_type": "stream",
     "text": [
      "4\n"
     ]
    }
   ],
   "source": [
    "versiones_plone = [4,2.1, 4, 3.6,4, 2.1, 5, 6, 4]\n",
    "print(versiones_plone.index(4,3))"
   ]
  },
  {
   "cell_type": "markdown",
   "metadata": {},
   "source": [
    "El método admite como argumento adicional un índice inicial a partir de donde comenzar la búsqueda, opcionalmente también el índice final."
   ]
  },
  {
   "cell_type": "code",
   "execution_count": 29,
   "metadata": {},
   "outputs": [
    {
     "data": {
      "text/plain": [
       "3.6"
      ]
     },
     "execution_count": 29,
     "metadata": {},
     "output_type": "execute_result"
    }
   ],
   "source": [
    "versiones_plone = [4, 2.5, 3.6, 4, 5, 6, 4,5,3,4]\n",
    "versiones_plone[2]"
   ]
  },
  {
   "cell_type": "code",
   "execution_count": 32,
   "metadata": {},
   "outputs": [
    {
     "name": "stdout",
     "output_type": "stream",
     "text": [
      "no existe\n"
     ]
    }
   ],
   "source": [
    "try:\n",
    "    print(versiones_plone.index(4,10))\n",
    "except:\n",
    "    print(\"no existe\")"
   ]
  },
  {
   "cell_type": "code",
   "execution_count": 33,
   "metadata": {},
   "outputs": [
    {
     "data": {
      "text/plain": [
       "4"
      ]
     },
     "execution_count": 33,
     "metadata": {},
     "output_type": "execute_result"
    }
   ],
   "source": [
    "versiones_plone[3]"
   ]
  },
  {
   "cell_type": "code",
   "execution_count": 34,
   "metadata": {},
   "outputs": [
    {
     "name": "stdout",
     "output_type": "stream",
     "text": [
      "6\n"
     ]
    }
   ],
   "source": [
    "print(versiones_plone.index(4, 5))"
   ]
  },
  {
   "cell_type": "code",
   "execution_count": 35,
   "metadata": {},
   "outputs": [
    {
     "data": {
      "text/plain": [
       "4"
      ]
     },
     "execution_count": 35,
     "metadata": {},
     "output_type": "execute_result"
    }
   ],
   "source": [
    "versiones_plone[6]"
   ]
  },
  {
   "cell_type": "markdown",
   "metadata": {},
   "source": [
    "El método devuelve un excepción ValueError si el elemento no se encuentra en la lista, o en el entorno definido."
   ]
  },
  {
   "cell_type": "code",
   "execution_count": 36,
   "metadata": {},
   "outputs": [],
   "source": [
    "versiones_plone = [2.1, 2.5, 3.6, 4, 5, 6, 4]"
   ]
  },
  {
   "cell_type": "code",
   "execution_count": 37,
   "metadata": {},
   "outputs": [
    {
     "ename": "ValueError",
     "evalue": "9 is not in list",
     "output_type": "error",
     "traceback": [
      "\u001b[1;31m---------------------------------------------------------------------------\u001b[0m",
      "\u001b[1;31mValueError\u001b[0m                                Traceback (most recent call last)",
      "Cell \u001b[1;32mIn[37], line 1\u001b[0m\n\u001b[1;32m----> 1\u001b[0m \u001b[38;5;28mprint\u001b[39m(\u001b[43mversiones_plone\u001b[49m\u001b[38;5;241;43m.\u001b[39;49m\u001b[43mindex\u001b[49m\u001b[43m(\u001b[49m\u001b[38;5;241;43m9\u001b[39;49m\u001b[43m)\u001b[49m)\n",
      "\u001b[1;31mValueError\u001b[0m: 9 is not in list"
     ]
    }
   ],
   "source": [
    "print(versiones_plone.index(9))"
   ]
  },
  {
   "cell_type": "markdown",
   "metadata": {},
   "source": [
    "# insert()\n",
    "\n",
    "Este método inserta el elemento x en la lista, en el índice i."
   ]
  },
  {
   "cell_type": "code",
   "execution_count": null,
   "metadata": {},
   "outputs": [],
   "source": [
    "versiones_plone = [2, 3, 7, 4, 5, 6,8,9]\n",
    "print(versiones_plone)"
   ]
  },
  {
   "cell_type": "code",
   "execution_count": 40,
   "metadata": {},
   "outputs": [
    {
     "name": "stdout",
     "output_type": "stream",
     "text": [
      "[2.1, 'sapo', 2.5, 'sapo', 3.6, 4, 5, 6, 4, 'sapo']\n"
     ]
    }
   ],
   "source": [
    "versiones_plone.insert(3, \"sapo\")\n",
    "print(versiones_plone)"
   ]
  },
  {
   "cell_type": "markdown",
   "metadata": {},
   "source": [
    "# pop()\n",
    "\n",
    "Este método devuelve el último elemento de la lista, y lo borra de la misma."
   ]
  },
  {
   "cell_type": "code",
   "execution_count": 44,
   "metadata": {},
   "outputs": [
    {
     "data": {
      "text/plain": [
       "3.6"
      ]
     },
     "execution_count": 44,
     "metadata": {},
     "output_type": "execute_result"
    }
   ],
   "source": [
    "versiones_plone = [2.1, 2.5, 3.6, 4, 5, 6]\n",
    "\n",
    "h=versiones_plone.pop(2)\n",
    "h"
   ]
  },
  {
   "cell_type": "code",
   "execution_count": null,
   "metadata": {},
   "outputs": [],
   "source": [
    "print(versiones_plone)"
   ]
  },
  {
   "cell_type": "markdown",
   "metadata": {},
   "source": [
    "Opcionalmente puede recibir un argumento numérico, que funciona como índice del elemento (por defecto, -1)"
   ]
  },
  {
   "cell_type": "code",
   "execution_count": null,
   "metadata": {},
   "outputs": [],
   "source": [
    "versiones_plone = [2.1, 2.5, 3.6, 4, 5, 6]"
   ]
  },
  {
   "cell_type": "code",
   "execution_count": null,
   "metadata": {},
   "outputs": [],
   "source": [
    "print(versiones_plone.pop(0))"
   ]
  },
  {
   "cell_type": "code",
   "execution_count": null,
   "metadata": {},
   "outputs": [],
   "source": [
    "print(versiones_plone)"
   ]
  },
  {
   "cell_type": "markdown",
   "metadata": {},
   "source": [
    "# remove()\n",
    "\n",
    "Este método recibe como argumento un elemento, y borra su primera aparición en la lista."
   ]
  },
  {
   "cell_type": "code",
   "execution_count": 45,
   "metadata": {},
   "outputs": [
    {
     "name": "stdout",
     "output_type": "stream",
     "text": [
      "[2.1, 2.5, 3.6, 4, 5, 6, 2.5, 6, 65, 6]\n"
     ]
    }
   ],
   "source": [
    "versiones_plone = [2.1, 2.5, 3.6, 4, 5, 6,2.5,6,65,6]\n",
    "print(versiones_plone)"
   ]
  },
  {
   "cell_type": "code",
   "execution_count": 49,
   "metadata": {},
   "outputs": [
    {
     "ename": "ValueError",
     "evalue": "list.remove(x): x not in list",
     "output_type": "error",
     "traceback": [
      "\u001b[1;31m---------------------------------------------------------------------------\u001b[0m",
      "\u001b[1;31mValueError\u001b[0m                                Traceback (most recent call last)",
      "Cell \u001b[1;32mIn[49], line 1\u001b[0m\n\u001b[1;32m----> 1\u001b[0m \u001b[43mversiones_plone\u001b[49m\u001b[38;5;241;43m.\u001b[39;49m\u001b[43mremove\u001b[49m\u001b[43m(\u001b[49m\u001b[38;5;241;43m6\u001b[39;49m\u001b[43m)\u001b[49m\n\u001b[0;32m      2\u001b[0m \u001b[38;5;28mprint\u001b[39m(versiones_plone)\n",
      "\u001b[1;31mValueError\u001b[0m: list.remove(x): x not in list"
     ]
    }
   ],
   "source": [
    "versiones_plone.remove(6)\n",
    "print(versiones_plone)"
   ]
  },
  {
   "cell_type": "markdown",
   "metadata": {},
   "source": [
    "El método devuelve un excepción ValueError si el elemento no se encuentra en la lista."
   ]
  },
  {
   "cell_type": "code",
   "execution_count": null,
   "metadata": {},
   "outputs": [],
   "source": [
    "versiones_plone = [2.1, 2.5, 3.6, 4, 5, 6]\n",
    "print(versiones_plone)"
   ]
  },
  {
   "cell_type": "code",
   "execution_count": 50,
   "metadata": {},
   "outputs": [
    {
     "ename": "ValueError",
     "evalue": "list.remove(x): x not in list",
     "output_type": "error",
     "traceback": [
      "\u001b[1;31m---------------------------------------------------------------------------\u001b[0m",
      "\u001b[1;31mValueError\u001b[0m                                Traceback (most recent call last)",
      "Cell \u001b[1;32mIn[50], line 1\u001b[0m\n\u001b[1;32m----> 1\u001b[0m \u001b[43mversiones_plone\u001b[49m\u001b[38;5;241;43m.\u001b[39;49m\u001b[43mremove\u001b[49m\u001b[43m(\u001b[49m\u001b[38;5;241;43m7\u001b[39;49m\u001b[43m)\u001b[49m\n",
      "\u001b[1;31mValueError\u001b[0m: list.remove(x): x not in list"
     ]
    }
   ],
   "source": [
    "versiones_plone.remove(7)"
   ]
  },
  {
   "cell_type": "markdown",
   "metadata": {},
   "source": [
    "# reverse()\n",
    "\n",
    "Este método invierte el orden de los elementos de una lista."
   ]
  },
  {
   "cell_type": "code",
   "execution_count": 52,
   "metadata": {},
   "outputs": [
    {
     "name": "stdout",
     "output_type": "stream",
     "text": [
      "[2.1, 2.5, 3.6, 4, 5, 6, 1]\n"
     ]
    }
   ],
   "source": [
    "versiones_plone = [2.1, 2.5, 3.6, 4, 5, 6,1]\n",
    "print(versiones_plone)"
   ]
  },
  {
   "cell_type": "code",
   "execution_count": 53,
   "metadata": {},
   "outputs": [
    {
     "name": "stdout",
     "output_type": "stream",
     "text": [
      "[1, 6, 5, 4, 3.6, 2.5, 2.1]\n"
     ]
    }
   ],
   "source": [
    "versiones_plone.reverse()\n",
    "print(versiones_plone)"
   ]
  },
  {
   "cell_type": "markdown",
   "metadata": {},
   "source": [
    "# sort()\n",
    "\n",
    "Este método ordena los elementos de una lista."
   ]
  },
  {
   "cell_type": "code",
   "execution_count": 54,
   "metadata": {},
   "outputs": [
    {
     "name": "stdout",
     "output_type": "stream",
     "text": [
      "[4, 2.5, 5, 3.6, 2.1, 6]\n"
     ]
    }
   ],
   "source": [
    "versiones_plone = [4, 2.5, 5, 3.6, 2.1, 6]\n",
    "print(versiones_plone)"
   ]
  },
  {
   "cell_type": "code",
   "execution_count": 56,
   "metadata": {},
   "outputs": [
    {
     "name": "stdout",
     "output_type": "stream",
     "text": [
      "[2.1, 2.5, 3.6, 4, 5, 6]\n"
     ]
    }
   ],
   "source": [
    "flag = True\n",
    "\n",
    "versiones_plone.sort(reverse=False)\n",
    "\n",
    "print(versiones_plone)"
   ]
  },
  {
   "cell_type": "markdown",
   "metadata": {},
   "source": [
    "El método sort() admite la opción reverse, por defecto, con valor False. De tener valor True, el ordenamiento se hace en sentido inverso."
   ]
  },
  {
   "cell_type": "code",
   "execution_count": 58,
   "metadata": {},
   "outputs": [
    {
     "name": "stdout",
     "output_type": "stream",
     "text": [
      "[[0, 2, 3, 4, 234, 3, 42, 234, 234, 234, 234, 234, 34, 34, 134, 234, 34, 3, 423], [2, 3, 423, 3, 23, 23, 6], [3, 3, 23, 23, 6], [456565464654654646454465, 6465], [999999999999999999999999999999999999]]\n"
     ]
    },
    {
     "ename": "AttributeError",
     "evalue": "'list' object has no attribute 'sorted'",
     "output_type": "error",
     "traceback": [
      "\u001b[1;31m---------------------------------------------------------------------------\u001b[0m",
      "\u001b[1;31mAttributeError\u001b[0m                            Traceback (most recent call last)",
      "Cell \u001b[1;32mIn[58], line 6\u001b[0m\n\u001b[0;32m      4\u001b[0m my_list\u001b[38;5;241m.\u001b[39msort()\n\u001b[0;32m      5\u001b[0m \u001b[38;5;28mprint\u001b[39m(my_list)\n\u001b[1;32m----> 6\u001b[0m \u001b[43mmy_list\u001b[49m\u001b[38;5;241;43m.\u001b[39;49m\u001b[43msorted\u001b[49m()\n",
      "\u001b[1;31mAttributeError\u001b[0m: 'list' object has no attribute 'sorted'"
     ]
    }
   ],
   "source": [
    "\n",
    "my_list = [[2,3,423,3,23,23,6],[3,3,23,23,6],[456565464654654646454465,6465],[999999999999999999999999999999999999],[0,2,3,4,234,3,42,234,234,234,234,234,34,34,134,234,34,3,423]]\n",
    "my_list[:].sort()\n",
    "\n",
    "my_list.sort()\n",
    "print(my_list)\n",
    "my_list.sorted()"
   ]
  },
  {
   "cell_type": "markdown",
   "metadata": {},
   "source": []
  },
  {
   "cell_type": "markdown",
   "metadata": {},
   "source": [
    "# Convertir a listas\n",
    "\n",
    "Para convertir a tipos listas debe usar la función list() la cual esta integrada en el interprete Python."
   ]
  },
  {
   "cell_type": "markdown",
   "metadata": {},
   "source": [
    "# Ejemplos\n",
    "\n",
    "A continuación, se presentan algunos ejemplos de su uso:\n",
    "\n",
    "Ejemplo de establecer una colección ordenada/arreglos o vectores"
   ]
  },
  {
   "cell_type": "code",
   "execution_count": 59,
   "metadata": {},
   "outputs": [
    {
     "ename": "TypeError",
     "evalue": "'<' not supported between instances of 'str' and 'int'",
     "output_type": "error",
     "traceback": [
      "\u001b[1;31m---------------------------------------------------------------------------\u001b[0m",
      "\u001b[1;31mTypeError\u001b[0m                                 Traceback (most recent call last)",
      "Cell \u001b[1;32mIn[59], line 4\u001b[0m\n\u001b[0;32m      1\u001b[0m lista \u001b[38;5;241m=\u001b[39m [\u001b[38;5;241m2\u001b[39m, \u001b[38;5;124m\"\u001b[39m\u001b[38;5;124mCMS\u001b[39m\u001b[38;5;124m\"\u001b[39m, \u001b[38;5;28;01mTrue\u001b[39;00m, [\u001b[38;5;124m\"\u001b[39m\u001b[38;5;124mPlone\u001b[39m\u001b[38;5;124m\"\u001b[39m, \u001b[38;5;241m10\u001b[39m]]\n\u001b[0;32m      3\u001b[0m x\u001b[38;5;241m=\u001b[39m\u001b[38;5;28mlist\u001b[39m(lista)\n\u001b[1;32m----> 4\u001b[0m \u001b[43mx\u001b[49m\u001b[38;5;241;43m.\u001b[39;49m\u001b[43msort\u001b[49m\u001b[43m(\u001b[49m\u001b[43m)\u001b[49m\n",
      "\u001b[1;31mTypeError\u001b[0m: '<' not supported between instances of 'str' and 'int'"
     ]
    }
   ],
   "source": [
    "lista = [2, \"CMS\", True, [\"Plone\", 10]]\n",
    "\n",
    "x=list(lista)\n",
    "x.sort()"
   ]
  },
  {
   "cell_type": "markdown",
   "metadata": {},
   "source": [
    "Ejemplo de acceder a un elemento especifico de una lista"
   ]
  },
  {
   "cell_type": "code",
   "execution_count": null,
   "metadata": {},
   "outputs": [],
   "source": [
    "l2 = lista[1]\n",
    "print(l2)"
   ]
  },
  {
   "cell_type": "markdown",
   "metadata": {},
   "source": [
    "Ejemplo de acceder a un elemento a una lista anidada"
   ]
  },
  {
   "cell_type": "code",
   "execution_count": null,
   "metadata": {},
   "outputs": [],
   "source": [
    "l3 = lista[3][0]\n",
    "print(l3)"
   ]
  },
  {
   "cell_type": "markdown",
   "metadata": {},
   "source": [
    "Ejemplo de establecer nuevo valor de un elemento de lista"
   ]
  },
  {
   "cell_type": "code",
   "execution_count": null,
   "metadata": {},
   "outputs": [],
   "source": [
    "lista[1] = 4\n",
    "print(lista)"
   ]
  },
  {
   "cell_type": "code",
   "execution_count": null,
   "metadata": {},
   "outputs": [],
   "source": [
    "lista[1] = \"CMS\""
   ]
  },
  {
   "cell_type": "code",
   "execution_count": 61,
   "metadata": {},
   "outputs": [
    {
     "data": {
      "text/plain": [
       "['P', 'y', 't', 'h', 'o', 'n']"
      ]
     },
     "execution_count": 61,
     "metadata": {},
     "output_type": "execute_result"
    }
   ],
   "source": [
    "stream = \"Python\"\n",
    "l=list(stream)\n",
    "l"
   ]
  },
  {
   "cell_type": "markdown",
   "metadata": {},
   "source": [
    "Ejemplo de obtener un rango de elemento especifico"
   ]
  },
  {
   "cell_type": "code",
   "execution_count": null,
   "metadata": {},
   "outputs": [],
   "source": [
    "l3 = lista[:3]\n",
    "print(l3)"
   ]
  },
  {
   "cell_type": "markdown",
   "metadata": {},
   "source": [
    "Ejemplos de obtener un rango con saltos de elementos específicos"
   ]
  },
  {
   "cell_type": "code",
   "execution_count": null,
   "metadata": {},
   "outputs": [],
   "source": [
    "l4 = lista[:3:2]\n",
    "print(l4)"
   ]
  },
  {
   "cell_type": "code",
   "execution_count": null,
   "metadata": {},
   "outputs": [],
   "source": [
    "lista = [2, \"CMS\", True, [\"Plone\", 10]]\n",
    "l5 = lista[1::2]\n",
    "print(l5)"
   ]
  },
  {
   "cell_type": "markdown",
   "metadata": {},
   "source": [
    "# Ejemplo de iterar sobre cualquier secuencia\n",
    "\n",
    "Usted puede iterar sobre cualquier secuencia (cadenas de caracteres, lista, claves en un diccionario, lineas en un archivo, ...):"
   ]
  },
  {
   "cell_type": "markdown",
   "metadata": {},
   "source": [
    "# Ejemplo de iterar sobre una cadenas de caracteres"
   ]
  },
  {
   "cell_type": "code",
   "execution_count": 62,
   "metadata": {},
   "outputs": [
    {
     "name": "stdout",
     "output_type": "stream",
     "text": [
      "3\n",
      "1\n",
      "7\n",
      "6\n",
      "6\n",
      "4\n",
      "1\n",
      "7\n"
     ]
    }
   ],
   "source": [
    "jol= '12345679'\n",
    "for letra in '3176688417':\n",
    " \n",
    "     if letra in jol:\n",
    "            print(letra)"
   ]
  },
  {
   "cell_type": "markdown",
   "metadata": {},
   "source": [
    "# Ejemplo de iterar sobre una lista\n",
    "\n",
    "Para separar una cadena en frases, los valores pueden separarse con la función integrada split()."
   ]
  },
  {
   "cell_type": "code",
   "execution_count": 63,
   "metadata": {},
   "outputs": [
    {
     "data": {
      "text/plain": [
       "['Para',\n",
       " 'separar',\n",
       " 'una',\n",
       " 'cadena',\n",
       " 'en',\n",
       " 'frases,',\n",
       " 'los',\n",
       " 'valores',\n",
       " 'pueden',\n",
       " 'separarse',\n",
       " 'con',\n",
       " 'la',\n",
       " 'función',\n",
       " 'integrada']"
      ]
     },
     "execution_count": 63,
     "metadata": {},
     "output_type": "execute_result"
    }
   ],
   "source": [
    "mensaje = \"Para separar una cadena en frases, los valores pueden separarse con la función integrada\"\n",
    "mensaje.split() # retornestasa una lista"
   ]
  },
  {
   "cell_type": "code",
   "execution_count": 64,
   "metadata": {},
   "outputs": [
    {
     "name": "stdout",
     "output_type": "stream",
     "text": [
      "1\n",
      "3\n",
      "5\n",
      "23432\n",
      "True\n",
      "2345\n",
      "afdsdsf\n"
     ]
    }
   ],
   "source": [
    "lista = [1,3,5,23432,True,2345,\"afdsdsf\"]\n",
    "for palabra in lista:\n",
    "    print(palabra)"
   ]
  },
  {
   "cell_type": "markdown",
   "metadata": {},
   "source": [
    "# Ejemplo de iterar sobre dos o más secuencias\n",
    "\n",
    "Para iterar sobre dos o más secuencias al mismo tiempo, los valores pueden emparejarse con la función integrada zip()."
   ]
  },
  {
   "cell_type": "code",
   "execution_count": 68,
   "metadata": {},
   "outputs": [
    {
     "name": "stdout",
     "output_type": "stream",
     "text": [
      "¿Cual es tu Leonardo?, la respuesta es: nombre.\n",
      "¿Cual es tu aprender Python y Plone?, la respuesta es: objetivo.\n",
      "¿Cual es tu Linux?, la respuesta es: sistema operativo.\n"
     ]
    }
   ],
   "source": [
    "preguntas = ['nombre', 'objetivo', 'sistema operativo']\n",
    "respuestas = ['Leonardo', 'aprender Python y Plone', 'Linux']\n",
    "\n",
    "for pregunta, respuesta in zip(preguntas, respuestas):\n",
    "    print('¿Cual es tu {0}?, la respuesta es: {1}.'.format(\n",
    "         respuesta,pregunta ))"
   ]
  },
  {
   "cell_type": "markdown",
   "metadata": {},
   "source": [
    "# Ejemplo ayuda con listas"
   ]
  },
  {
   "cell_type": "code",
   "execution_count": 69,
   "metadata": {},
   "outputs": [
    {
     "name": "stdout",
     "output_type": "stream",
     "text": [
      "Help on class list in module builtins:\n",
      "\n",
      "class list(object)\n",
      " |  list(iterable=(), /)\n",
      " |\n",
      " |  Built-in mutable sequence.\n",
      " |\n",
      " |  If no argument is given, the constructor creates a new empty list.\n",
      " |  The argument must be an iterable if specified.\n",
      " |\n",
      " |  Methods defined here:\n",
      " |\n",
      " |  __add__(self, value, /)\n",
      " |      Return self+value.\n",
      " |\n",
      " |  __contains__(self, key, /)\n",
      " |      Return bool(key in self).\n",
      " |\n",
      " |  __delitem__(self, key, /)\n",
      " |      Delete self[key].\n",
      " |\n",
      " |  __eq__(self, value, /)\n",
      " |      Return self==value.\n",
      " |\n",
      " |  __ge__(self, value, /)\n",
      " |      Return self>=value.\n",
      " |\n",
      " |  __getattribute__(self, name, /)\n",
      " |      Return getattr(self, name).\n",
      " |\n",
      " |  __getitem__(self, index, /)\n",
      " |      Return self[index].\n",
      " |\n",
      " |  __gt__(self, value, /)\n",
      " |      Return self>value.\n",
      " |\n",
      " |  __iadd__(self, value, /)\n",
      " |      Implement self+=value.\n",
      " |\n",
      " |  __imul__(self, value, /)\n",
      " |      Implement self*=value.\n",
      " |\n",
      " |  __init__(self, /, *args, **kwargs)\n",
      " |      Initialize self.  See help(type(self)) for accurate signature.\n",
      " |\n",
      " |  __iter__(self, /)\n",
      " |      Implement iter(self).\n",
      " |\n",
      " |  __le__(self, value, /)\n",
      " |      Return self<=value.\n",
      " |\n",
      " |  __len__(self, /)\n",
      " |      Return len(self).\n",
      " |\n",
      " |  __lt__(self, value, /)\n",
      " |      Return self<value.\n",
      " |\n",
      " |  __mul__(self, value, /)\n",
      " |      Return self*value.\n",
      " |\n",
      " |  __ne__(self, value, /)\n",
      " |      Return self!=value.\n",
      " |\n",
      " |  __repr__(self, /)\n",
      " |      Return repr(self).\n",
      " |\n",
      " |  __reversed__(self, /)\n",
      " |      Return a reverse iterator over the list.\n",
      " |\n",
      " |  __rmul__(self, value, /)\n",
      " |      Return value*self.\n",
      " |\n",
      " |  __setitem__(self, key, value, /)\n",
      " |      Set self[key] to value.\n",
      " |\n",
      " |  __sizeof__(self, /)\n",
      " |      Return the size of the list in memory, in bytes.\n",
      " |\n",
      " |  append(self, object, /)\n",
      " |      Append object to the end of the list.\n",
      " |\n",
      " |  clear(self, /)\n",
      " |      Remove all items from list.\n",
      " |\n",
      " |  copy(self, /)\n",
      " |      Return a shallow copy of the list.\n",
      " |\n",
      " |  count(self, value, /)\n",
      " |      Return number of occurrences of value.\n",
      " |\n",
      " |  extend(self, iterable, /)\n",
      " |      Extend list by appending elements from the iterable.\n",
      " |\n",
      " |  index(self, value, start=0, stop=9223372036854775807, /)\n",
      " |      Return first index of value.\n",
      " |\n",
      " |      Raises ValueError if the value is not present.\n",
      " |\n",
      " |  insert(self, index, object, /)\n",
      " |      Insert object before index.\n",
      " |\n",
      " |  pop(self, index=-1, /)\n",
      " |      Remove and return item at index (default last).\n",
      " |\n",
      " |      Raises IndexError if list is empty or index is out of range.\n",
      " |\n",
      " |  remove(self, value, /)\n",
      " |      Remove first occurrence of value.\n",
      " |\n",
      " |      Raises ValueError if the value is not present.\n",
      " |\n",
      " |  reverse(self, /)\n",
      " |      Reverse *IN PLACE*.\n",
      " |\n",
      " |  sort(self, /, *, key=None, reverse=False)\n",
      " |      Sort the list in ascending order and return None.\n",
      " |\n",
      " |      The sort is in-place (i.e. the list itself is modified) and stable (i.e. the\n",
      " |      order of two equal elements is maintained).\n",
      " |\n",
      " |      If a key function is given, apply it once to each list item and sort them,\n",
      " |      ascending or descending, according to their function values.\n",
      " |\n",
      " |      The reverse flag can be set to sort in descending order.\n",
      " |\n",
      " |  ----------------------------------------------------------------------\n",
      " |  Class methods defined here:\n",
      " |\n",
      " |  __class_getitem__(...)\n",
      " |      See PEP 585\n",
      " |\n",
      " |  ----------------------------------------------------------------------\n",
      " |  Static methods defined here:\n",
      " |\n",
      " |  __new__(*args, **kwargs)\n",
      " |      Create and return a new object.  See help(type) for accurate signature.\n",
      " |\n",
      " |  ----------------------------------------------------------------------\n",
      " |  Data and other attributes defined here:\n",
      " |\n",
      " |  __hash__ = None\n",
      "\n"
     ]
    }
   ],
   "source": [
    "help(list)"
   ]
  },
  {
   "attachments": {},
   "cell_type": "markdown",
   "metadata": {},
   "source": [
    "Escribe un programa que pida al usuario que ingrese una lista de números enteros separados por comas. El programa debe leer la entrada del usuario, convertir la cadena de entrada en una lista de enteros y luego usar un ciclo para calcular y mostrar la suma y el producto de los números en la lista."
   ]
  },
  {
   "cell_type": "code",
   "execution_count": 70,
   "metadata": {},
   "outputs": [
    {
     "name": "stdout",
     "output_type": "stream",
     "text": [
      "La suma de los números es: 64646543645\n",
      "El producto de los números es: 64646543645\n"
     ]
    }
   ],
   "source": [
    "# Pedir al usuario que ingrese una lista de números enteros separados por comas\n",
    "nums_str = input(\"Ingrese una lista de números enteros separados por comas: \")\n",
    "\n",
    "# Convertir la cadena de entrada en una lista de enteros\n",
    "nums_list = [int(num) for num in nums_str.split(',')]\n",
    "\n",
    "# Inicializar variables para la suma y el producto de los números en la lista\n",
    "sum_nums = 0\n",
    "product_nums = 1\n",
    "\n",
    "# Calcular la suma y el producto de los números en la lista usando un ciclo for\n",
    "for num in nums_list:\n",
    "    sum_nums += num\n",
    "    product_nums *= num\n",
    "\n",
    "# Mostrar la suma y el producto de los números en la lista\n",
    "print(\"La suma de los números es:\", sum_nums)\n",
    "print(\"El producto de los números es:\", product_nums)\n"
   ]
  },
  {
   "cell_type": "code",
   "execution_count": 73,
   "metadata": {},
   "outputs": [
    {
     "name": "stdout",
     "output_type": "stream",
     "text": [
      "0\n"
     ]
    }
   ],
   "source": [
    "numeros_str = input(\"Numeros (separados por ',')> \")\n",
    "\n",
    "numeros_str_list = numeros_str.split(\",\")\n",
    "\n",
    "\n",
    "\n",
    "numeros_int_list = []\n",
    "for i in numeros_str_list:\n",
    "    for l in i:\n",
    "        if (ord(l) < 48  or ord(l) > 57):\n",
    "            i = i.replace(l,\"\")\n",
    "            \n",
    "    if i == \"\":\n",
    "        i = \"0\"\n",
    "        \n",
    "    numeros_int_list.append(int(i))\n",
    "\n",
    "t = 0\n",
    "j=1\n",
    "for i in numeros_int_list:\n",
    "    t += i\n",
    "    j*=i\n",
    "    \n",
    "print(j)"
   ]
  },
  {
   "cell_type": "markdown",
   "metadata": {},
   "source": []
  },
  {
   "attachments": {},
   "cell_type": "markdown",
   "metadata": {},
   "source": [
    "Escribe un programa que simule una competencia de atletismo de 100 metros planos entre dos corredores, llamados \"A\" y \"B\". Cada corredor tiene una velocidad inicial en metros por segundo (m/s) y una aceleración constante en metros por segundo al cuadrado (m/s^2). El programa debe pedir al usuario que ingrese la velocidad inicial y la aceleración de cada corredor, y luego simular la carrera mostrando la posición de cada corredor en cada segundo de la carrera.\n",
    "\n",
    "pos = v0*t + 0.5*a*t^2"
   ]
  },
  {
   "cell_type": "code",
   "execution_count": null,
   "metadata": {},
   "outputs": [],
   "source": [
    "v0_a = float(input(\"Ingrese la velocidad inicial del corredor A en m/s: \"))\n",
    "a_a = float(input(\"Ingrese la aceleración del corredor A en m/s^2: \"))\n",
    "v0_b = float(input(\"Ingrese la velocidad inicial del corredor B en m/s: \"))\n",
    "a_b = float(input(\"Ingrese la aceleración del corredor B en m/s^2: \"))\n",
    "\n",
    "t_a = ((100 - v0_a**2/(2*a_a))/a_a)**0.5\n",
    "t_b = ((100 - v0_b**2/(2*a_b))/a_b)**0.5\n",
    "\n",
    "pos_a = []\n",
    "pos_b = []\n",
    "\n",
    "for t in range(int(t_a)+1):\n",
    "    pos_a.append(v0_a*t + 0.5*a_a*t**2)\n",
    "for t in range(int(t_b)+1):\n",
    "    pos_b.append(v0_b*t + 0.5*a_b*t**2)\n",
    "\n",
    "print(\"Posición del corredor A:\")\n",
    "for i, pos in enumerate(pos_a):\n",
    "    print(f\"Segundo {i}: {pos} metros\")\n",
    "\n",
    "print(\"Posición del corredor B:\")\n",
    "for i, pos in enumerate(pos_b):\n",
    "    print(f\"Segundo {i}: {pos} metros\")\n",
    "\n",
    "if pos_a[-1] > pos_b[-1]:\n",
    "    print(\"¡El ganador es el corredor A!\")\n",
    "elif pos_b[-1] > pos_a[-1]:\n",
    "    print(\"¡El ganador es el corredor B!\")\n",
    "else:\n",
    "    print(\"¡La carrera terminó en empate!\")"
   ]
  }
 ],
 "metadata": {
  "kernelspec": {
   "display_name": "Python 3",
   "language": "python",
   "name": "python3"
  },
  "language_info": {
   "codemirror_mode": {
    "name": "ipython",
    "version": 3
   },
   "file_extension": ".py",
   "mimetype": "text/x-python",
   "name": "python",
   "nbconvert_exporter": "python",
   "pygments_lexer": "ipython3",
   "version": "3.12.5"
  }
 },
 "nbformat": 4,
 "nbformat_minor": 4
}
