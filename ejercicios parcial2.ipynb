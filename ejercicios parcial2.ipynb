{
 "cells": [
  {
   "cell_type": "markdown",
   "metadata": {},
   "source": [
    "### Ejercicio 1: Creación e Inserción de Datos en una Lista desde un Archivo de Texto\n",
    "\n",
    "Realiza un ejercicio  que leerá un archivo de texto llamado datos.txt, donde cada línea es un elemento que se añadirá a una lista. Luego, solicitará al usuario insertar un nuevo elemento.\n",
    "\n"
   ]
  },
  {
   "cell_type": "code",
   "execution_count": 24,
   "metadata": {},
   "outputs": [
    {
     "name": "stdout",
     "output_type": "stream",
     "text": [
      "['manzana', 'pera', 'banano', 'maracuya', 'mora', 'uva', 'mango', '']\n"
     ]
    }
   ],
   "source": [
    "def leer_archivo_a_lista(archivo):\n",
    "    try:\n",
    "        with open(archivo, 'r') as f:\n",
    "            lista = [linea.strip() for linea in f.readlines()]\n",
    "            return lista\n",
    "    except FileNotFoundError:\n",
    "        print(f\"El archivo {archivo} no existe.\")\n",
    "        return []\n",
    "    \n",
    "def insertar_en_lista(lista, elemento):\n",
    "    lista.append(elemento)\n",
    "    return lista   \n",
    "\n",
    "lista =leer_archivo_a_lista('datos.txt')\n",
    "nuevo_elemento = input(\"Ingrese un nuevo elemento: \")\n",
    "lista = insertar_en_lista(lista, nuevo_elemento)\n",
    "\n",
    "print(lista)   "
   ]
  },
  {
   "cell_type": "markdown",
   "metadata": {},
   "source": [
    "### Ejercicio 2: Búsqueda de Elementos en una Tupla y Escritura en un Archivo\n",
    "\n",
    "Realiza un ejercicio  que crea una tupla de números y permite buscar un número específico. Si el número se encuentra, se escribirá el resultado en un archivo de texto."
   ]
  },
  {
   "cell_type": "code",
   "execution_count": 30,
   "metadata": {},
   "outputs": [],
   "source": [
    "tupla =(10, 20, 30, 40, 50, 60,70, 80, 90, 100)\n",
    "\n",
    "def buscar_en_tupla(tupla, elemento):\n",
    "    if elemento in tupla:\n",
    "        return (f\"{elemento} se encuentra en la tupla.\\n\")\n",
    "    else:\n",
    "        return (f\"{elemento} se  no encuentra en la tupla.\\n\")\n",
    "    \n",
    "def escribir_archivo(resultado, archivo):\n",
    "    with open(archivo, 'a') as f:\n",
    "        f.write(resultado + \"\\n\")\n",
    "        \n",
    "a_buscar = int(input(\"Ingrese un número a buscar en la tupla: \"))\n",
    "resultado = buscar_en_tupla(tupla, a_buscar)\n",
    "escribir_archivo(resultado, \"resultado.txt\")\n"
   ]
  },
  {
   "cell_type": "markdown",
   "metadata": {},
   "source": [
    "### Ejercicio 3: Organización y Borrado en una Lista\n",
    "\n",
    "Realiza un ejercicio  que permite al usuario ingresar una lista de palabras, ordenarlas alfabéticamente y luego borrar un elemento específico si lo desea."
   ]
  },
  {
   "cell_type": "code",
   "execution_count": 32,
   "metadata": {},
   "outputs": [
    {
     "name": "stdout",
     "output_type": "stream",
     "text": [
      "['examen', 'parcial', 'quiz']\n",
      "asfdihkdsj no se encuentra en la lista.\n",
      "['examen', 'parcial', 'quiz']\n"
     ]
    }
   ],
   "source": [
    "def crear_lista():\n",
    "    palabras = input(\"ingrese palabras separadas por coma: \").split(\",\")\n",
    "    return[palabra.strip() for palabra in palabras]\n",
    "\n",
    "def ordenar_lista(lista):\n",
    "    return sorted(lista)\n",
    "\n",
    "def borrar_elemento(lista,elemento):\n",
    "    if elemento in lista:\n",
    "        lista.remove(elemento)\n",
    "    else:\n",
    "        print(f\"{elemento} no se encuentra en la lista.\")  \n",
    "    return lista\n",
    "\n",
    "lista = crear_lista()\n",
    "oredenada= ordenar_lista(lista)\n",
    "print(oredenada)\n",
    "\n",
    "borrar= input(\"Ingrese un elemento a borrar: \") \n",
    "lista_final= borrar_elemento(oredenada, borrar)\n",
    "print(lista_final)\n"
   ]
  },
  {
   "cell_type": "markdown",
   "metadata": {},
   "source": [
    "### Ejercicio 4: Operaciones con Matrices (Arreglos) y Escritura en un Archivo\n",
    "\n",
    "Realiza un ejercicio  que crea una matriz de 3x3 con números ingresados por el usuario, realiza la suma de los elementos, y guarda la matriz y la suma en un archivo de texto."
   ]
  },
  {
   "cell_type": "code",
   "execution_count": 37,
   "metadata": {},
   "outputs": [
    {
     "name": "stdout",
     "output_type": "stream",
     "text": [
      "Ingrese los elementos de la matriz 3x3: \n"
     ]
    }
   ],
   "source": [
    "def crear_matriz():\n",
    "    matriz=[]\n",
    "    print(\"Ingrese los elementos de la matriz 3x3: \")\n",
    "    for i in range(3):\n",
    "        fila = [int(input(f\"ingrese elemento [{i}][{j}]: \")) for j in range(3)]\n",
    "        matriz.append(fila)\n",
    "    return matriz\n",
    "    \n",
    "def sumar_Mtriz(matriz):\n",
    "   return sum(sum(fila) for fila in matriz)\n",
    "\n",
    "def excribir_archivo(matriz, suma, archivo):\n",
    "    with open(archivo, 'w') as f:\n",
    "        f.write(\"Matriz:\\n\")\n",
    "        for fila in matriz:\n",
    "            f.write(f\"{fila}\\n\")\n",
    "        f.write(f\"Suma de los elementos de la matriz: {suma}\\n\")\n",
    "        \n",
    "m=crear_matriz()\n",
    "suma=sumar_Mtriz(m)\n",
    "excribir_archivo(m, suma, \"matriz.txt\")"
   ]
  },
  {
   "cell_type": "markdown",
   "metadata": {},
   "source": [
    "### Ejercicio 5: Administración de un Inventario usando Listas y Tuplas\n",
    "\n",
    "Realiza un ejercicio  que administra un inventario de productos donde cada producto tiene un nombre y precio (tupla). El usuario puede agregar, borrar y buscar productos en la lista de inventario."
   ]
  },
  {
   "cell_type": "code",
   "execution_count": null,
   "metadata": {},
   "outputs": [],
   "source": []
  },
  {
   "cell_type": "markdown",
   "metadata": {},
   "source": [
    "### Ejercicio Integral: Gestión de Inventario y Registro de Ventas\n",
    "\n",
    "Realiza un ejercicio  que administra un inventario de productos usando una lista donde cada producto es una tupla que contiene el nombre del producto, su precio y su cantidad. Permite al usuario agregar, eliminar, buscar y organizar los productos, así como registrar ventas en una matriz 2x2 que luego se guarda en un archivo de texto."
   ]
  },
  {
   "cell_type": "code",
   "execution_count": null,
   "metadata": {},
   "outputs": [],
   "source": []
  }
 ],
 "metadata": {
  "kernelspec": {
   "display_name": "Python 3",
   "language": "python",
   "name": "python3"
  },
  "language_info": {
   "codemirror_mode": {
    "name": "ipython",
    "version": 3
   },
   "file_extension": ".py",
   "mimetype": "text/x-python",
   "name": "python",
   "nbconvert_exporter": "python",
   "pygments_lexer": "ipython3",
   "version": "3.12.5"
  }
 },
 "nbformat": 4,
 "nbformat_minor": 2
}
