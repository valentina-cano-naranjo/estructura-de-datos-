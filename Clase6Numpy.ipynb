{
  "cells": [
    {
      "cell_type": "markdown",
      "metadata": {
        "id": "u5OaRDlMxXxb"
      },
      "source": [
        "<p><img alt=\"Colaboratory logo\" height=\"140px\" src=\"https://upload.wikimedia.org/wikipedia/commons/c/ce/Logo-ITM-01.png\" align=\"left\" hspace=\"10px\" vspace=\"0px\"></p>\n",
        "<h1> Introducción a la libreria Numpy.</h1>\n",
        "\n",
        "El presente curso hace parte del programa de ciclos de formación en programación con lenguaje Python para el programa de jovenes investigadores e inovadores del ITM. William Giraldo."
      ]
    },
    {
      "cell_type": "markdown",
      "metadata": {
        "id": "6PXXsc4txnwW"
      },
      "source": [
        "<p><a name=\"libs\"></a></p>\n",
        "\n",
        "# Librerías en Python\n",
        "\n",
        "[[Contenidos]](#contents)\n",
        "\n",
        "En Python, una libreria es una colección de funciones y métodos que nos permiten realizar varias acciones sin la necesidad de programarlas explicitamente. Las librerias suelen contener módulos integrados que proporcionan diferentes funcionalidades que pueden ser usadas directamente. \n",
        "\n",
        "Existen varias librerías extensas con un amplio rango de opciones. Podemos dividir estas librerías en tres grandes grupos:\n",
        "\n",
        "\n",
        "\n",
        "1.   Librerías de computación científica: [numPy](https://numpy.org/), [pandas](https://pandas.pydata.org/) y [SciPy](https://www.scipy.org/)\n",
        "2.   Librerías de visualización: [matplotlib](https://matplotlib.org/) y [seaborn](https://seaborn.pydata.org/).\n",
        "3.   Librerías de algoritmos: [Skir-learn](https://scikit-learn.org/stable/) y [Statsmodels](https://www.statsmodels.org/stable/index.html#).\n",
        "\n",
        "En lo que respecta a la **sección 2** nos centraremos en las librerías cientificas y de visualización de numPy, pandas y matplotlib.\n"
      ]
    },
    {
      "cell_type": "markdown",
      "metadata": {
        "id": "3GLacIMcx9wc"
      },
      "source": [
        "<p><a name=\"numpy\"></a></p>\n",
        "\n",
        "# 2. Numpy\n",
        "\n",
        "[[Contenidos]](#contents)\n",
        "\n",
        "\n",
        "Numpy es la librería central para el computo científico en Python. Esta librería proporciona objetos matriciales multidimensionales de alto desempeño, además de herramientas para trabajar con estos arreglos. Para quienes estén familiarizados con el algebra lineal encontrarán este tutorial útil para empezar a trabajar con Numpy."
      ]
    },
    {
      "cell_type": "code",
      "execution_count": null,
      "metadata": {
        "id": "dKvnJSGTyHGG"
      },
      "outputs": [],
      "source": [
        "import numpy as np"
      ]
    },
    {
      "cell_type": "markdown",
      "metadata": {
        "id": "-z3gudlt2Ezk"
      },
      "source": [
        "\n",
        "\n",
        "La manera más común de crear una un vector o matriz ya inicializada es con la función np.array, que toma una lista (o lista de listas) como parámetro y devuelve una matriz de numpy.\n"
      ]
    },
    {
      "cell_type": "code",
      "execution_count": null,
      "metadata": {
        "colab": {
          "base_uri": "https://localhost:8080/"
        },
        "id": "-3LEta8I2F9l",
        "outputId": "40bc23f3-e2cf-46ff-bb2d-831cb6c8fca2"
      },
      "outputs": [],
      "source": [
        "lista=[25,12,15,66,12.5]\n",
        "vector=np.array(lista)\n",
        "print(vector)\n",
        "lista"
      ]
    },
    {
      "cell_type": "markdown",
      "metadata": {
        "id": "DSWHtnhi2RLs"
      },
      "source": [
        "¿Cuál es la diferencia entre vector y lista? Que vector, al ser un arreglo de numpy, nos permite hacer varias operaciones matemáticas de forma muy simple."
      ]
    },
    {
      "cell_type": "code",
      "execution_count": null,
      "metadata": {},
      "outputs": [],
      "source": [
        "print(\"vector original\")\n",
        "print(vector)"
      ]
    },
    {
      "cell_type": "code",
      "execution_count": null,
      "metadata": {},
      "outputs": [],
      "source": [
        "print(\"- sumarle 1 a cada elemento del vector:\")\n",
        "print(vector+1)"
      ]
    },
    {
      "cell_type": "code",
      "execution_count": null,
      "metadata": {},
      "outputs": [],
      "source": [
        "print(\"- multiplicar por 5 cada elemento del vector:\")\n",
        "print(vector*5)"
      ]
    },
    {
      "cell_type": "code",
      "execution_count": null,
      "metadata": {},
      "outputs": [],
      "source": [
        "print(\"- suma de los elementos:\")\n",
        "print(np.sum(vector))"
      ]
    },
    {
      "cell_type": "code",
      "execution_count": null,
      "metadata": {},
      "outputs": [],
      "source": [
        "\n",
        "print(\"- promedio (media) de los elementos:\")\n",
        "print(np.mean(vector)) # "
      ]
    },
    {
      "cell_type": "code",
      "execution_count": null,
      "metadata": {},
      "outputs": [],
      "source": [
        "\n",
        "print(\"- el vector sumado a si mismo:\")\n",
        "print(vector+vector)\n",
        "print(\"- suma de vectores vector1 y vector2 (mismo tamaño):\")"
      ]
    },
    {
      "cell_type": "code",
      "execution_count": null,
      "metadata": {
        "colab": {
          "base_uri": "https://localhost:8080/"
        },
        "id": "IeAF9a4S2SMM",
        "outputId": "48875405-f96d-456f-8524-06b60aec0c84"
      },
      "outputs": [],
      "source": [
        "\n",
        "vector2=np.array([11,55,1.2,7.4,-8])\n",
        "print(vector+vector2)"
      ]
    },
    {
      "cell_type": "markdown",
      "metadata": {
        "id": "VoLNKEZL2UxN"
      },
      "source": [
        "\n",
        "Creación de vectores con valor 0 o 1\n",
        "\n",
        "Es muy común crear un vector con valores 0 o 1. Por ejemplo, cuando se utiliza un vector de contadores, donde cada contador comienza en 0.\n",
        "\n",
        "Para ello, utilizamos las funciones np.zeros y np.ones, respectivamente. Cada una toma como parámetro la cantidad de elementos del vector a crear.\n"
      ]
    },
    {
      "cell_type": "code",
      "execution_count": null,
      "metadata": {},
      "outputs": [],
      "source": [
        "print(\"- Vector de ceros:\")\n",
        "vector_ceros=np.zeros(5)\n",
        "print(vector_ceros)"
      ]
    },
    {
      "cell_type": "code",
      "execution_count": null,
      "metadata": {},
      "outputs": [],
      "source": [
        "print(\"- Vector de unos:\")\n",
        "vector_unos=np.ones(10)+1\n",
        "print(vector_unos)"
      ]
    },
    {
      "cell_type": "code",
      "execution_count": null,
      "metadata": {},
      "outputs": [],
      "source": [
        "l=[2,2]*10\n",
        "l"
      ]
    },
    {
      "cell_type": "code",
      "execution_count": null,
      "metadata": {},
      "outputs": [],
      "source": [
        "print(\"- Vector con todos los elementos con valor 2:\")\n",
        "vector_dos=np.zeros(5)+2\n",
        "print(vector_dos)"
      ]
    },
    {
      "cell_type": "code",
      "execution_count": null,
      "metadata": {
        "colab": {
          "base_uri": "https://localhost:8080/"
        },
        "id": "B9xVFeRP2bkr",
        "outputId": "2b8c4243-4ecd-430a-d79c-6c5e00ffe107"
      },
      "outputs": [],
      "source": [
        "#Combinando este tipo de creaciones con las operaciones aritméticas,\n",
        "#podemos hacer varias inicializaciones muy rápidamente\n",
        "# Por ejemplo, para crear un vector cuyos valores iniciales son todos 2.\n",
        "\n",
        "\n",
        "\n",
        "print(\"- Vector con todos los elementos con valor 2 (otra forma):\")\n",
        "vector_dos_otro=np.ones((5))*2\n",
        "print(vector_dos_otro)"
      ]
    },
    {
      "cell_type": "code",
      "execution_count": null,
      "metadata": {
        "id": "KPobVoxu2eDG"
      },
      "outputs": [],
      "source": []
    },
    {
      "cell_type": "markdown",
      "metadata": {
        "id": "TJRDSbnfyC7y"
      },
      "source": [
        "<p><a name=\"arrays\"></a></p>\n",
        "\n",
        "## 2.1. Arrays\n",
        "\n",
        "[[Contenidos]](#contents)\n",
        "\n",
        "\n",
        "Un array en numpy es un grid de valores, del mismo tipo, los cuales son indexados por una tupla de enteros no negativos. El número de dimensiones es el rango de la matriz; la forma de la matríz es una tupla de enteros dados por el tamaño del array a lo largo de cada dimensión.\n",
        "\n",
        "\n",
        "\n",
        "Podemos inicializar los arrays de numpy mediante listas de Python y acceder a los elementos mediante corchetes `[]`\n"
      ]
    },
    {
      "cell_type": "markdown",
      "metadata": {
        "id": "6f6MT5Im330e"
      },
      "source": [
        "![imagen.png](data:image/png;base64,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)"
      ]
    },
    {
      "cell_type": "code",
      "execution_count": null,
      "metadata": {
        "id": "ouMl6JgGHcRH"
      },
      "outputs": [],
      "source": [
        "lista = [1,2,3,6,5,4,78,5]"
      ]
    },
    {
      "cell_type": "code",
      "execution_count": null,
      "metadata": {
        "id": "6auYRx97HhVg"
      },
      "outputs": [],
      "source": []
    },
    {
      "cell_type": "code",
      "execution_count": null,
      "metadata": {
        "id": "1-5zCmr233dR"
      },
      "outputs": [],
      "source": [
        "import numpy as np"
      ]
    },
    {
      "cell_type": "code",
      "execution_count": null,
      "metadata": {
        "colab": {
          "base_uri": "https://localhost:8080/"
        },
        "id": "0r75xkze2nrs",
        "outputId": "30dc8d62-1352-4472-f351-fe946b26b299"
      },
      "outputs": [],
      "source": [
        "f = [[1,2,3],[2,3,4],[4,5,6],[7,8,9]]\n",
        "print(f)"
      ]
    },
    {
      "cell_type": "code",
      "execution_count": null,
      "metadata": {
        "colab": {
          "base_uri": "https://localhost:8080/"
        },
        "id": "b--h_0zc28rx",
        "outputId": "ef731e11-8aea-4ba1-c90b-bf9408540e6d"
      },
      "outputs": [],
      "source": [
        "f = np.array(f)\n",
        "print(f)"
      ]
    },
    {
      "cell_type": "code",
      "execution_count": 31,
      "metadata": {
        "colab": {
          "base_uri": "https://localhost:8080/"
        },
        "id": "wAvBrBq93HZR",
        "outputId": "b46cc2b3-25fb-499a-cd90-697e9836c72b"
      },
      "outputs": [
        {
          "data": {
            "text/plain": [
              "numpy.ndarray"
            ]
          },
          "execution_count": 31,
          "metadata": {},
          "output_type": "execute_result"
        }
      ],
      "source": [
        "type(f)"
      ]
    },
    {
      "cell_type": "code",
      "execution_count": 32,
      "metadata": {
        "colab": {
          "base_uri": "https://localhost:8080/"
        },
        "id": "0TTuXXgwyGdb",
        "outputId": "605f88d4-c767-4605-9468-485c50ea4dc4"
      },
      "outputs": [
        {
          "name": "stdout",
          "output_type": "stream",
          "text": [
            "[[0 1 2 3]\n",
            " [4 5 6 7]]\n",
            "(2, 4)\n",
            "0 1 4\n"
          ]
        }
      ],
      "source": [
        "b = np.array([[0,1,2,3],[4,5,6,7]])    # Creación de un array de rango 2\n",
        "print(b)\n",
        "print(b.shape)                     # Impresión de las dimensiones \"(2, 4)\"\n",
        "print(b[0, 0], b[0, 1], b[1, 0])   # Impresión de los elementos 0, 1 y 4"
      ]
    },
    {
      "cell_type": "markdown",
      "metadata": {
        "id": "VJMpcP2SyH5Y"
      },
      "source": [
        "Numpy proporciona varias funciones para la creación de arrays:"
      ]
    },
    {
      "cell_type": "code",
      "execution_count": 34,
      "metadata": {},
      "outputs": [
        {
          "name": "stdout",
          "output_type": "stream",
          "text": [
            "[[0. 0.]\n",
            " [0. 0.]]\n"
          ]
        }
      ],
      "source": [
        "a = np.zeros((2,2))                        # Creación de un array de zeros\n",
        "print( a)                 # Imprime \"[[ 0.  0.]\n",
        "                                           #          [ 0.  0.]]\""
      ]
    },
    {
      "cell_type": "code",
      "execution_count": 35,
      "metadata": {},
      "outputs": [
        {
          "name": "stdout",
          "output_type": "stream",
          "text": [
            "Arrays de unos [[1. 1.]]\n"
          ]
        }
      ],
      "source": [
        "b = np.ones((1,2))                         # Creación de un array de unos\n",
        "print(\"Arrays de unos\", b)                 # Imprime \"[[ 1.  1.]]\"\n"
      ]
    },
    {
      "cell_type": "code",
      "execution_count": 38,
      "metadata": {},
      "outputs": [
        {
          "name": "stdout",
          "output_type": "stream",
          "text": [
            "Array constante [[6 6 6 6 6 6 6 6 6 6]\n",
            " [6 6 6 6 6 6 6 6 6 6]]\n"
          ]
        }
      ],
      "source": [
        "c = np.full((2,10), 6)                      # Creación de un array de una costante\n",
        "print(\"Array constante\", c)                # Imprime \"[[ 8.  8.]\n",
        "                                           #          [ 8.  8.]]\""
      ]
    },
    {
      "cell_type": "code",
      "execution_count": 41,
      "metadata": {},
      "outputs": [
        {
          "name": "stdout",
          "output_type": "stream",
          "text": [
            "[[1. 0. 0. 0. 0. 0. 0. 0. 0. 0.]\n",
            " [0. 1. 0. 0. 0. 0. 0. 0. 0. 0.]\n",
            " [0. 0. 1. 0. 0. 0. 0. 0. 0. 0.]\n",
            " [0. 0. 0. 1. 0. 0. 0. 0. 0. 0.]\n",
            " [0. 0. 0. 0. 1. 0. 0. 0. 0. 0.]\n",
            " [0. 0. 0. 0. 0. 1. 0. 0. 0. 0.]\n",
            " [0. 0. 0. 0. 0. 0. 1. 0. 0. 0.]\n",
            " [0. 0. 0. 0. 0. 0. 0. 1. 0. 0.]\n",
            " [0. 0. 0. 0. 0. 0. 0. 0. 1. 0.]\n",
            " [0. 0. 0. 0. 0. 0. 0. 0. 0. 1.]]\n"
          ]
        }
      ],
      "source": [
        "\n",
        "d = np.eye(10)                              # Creación de la matriz indentidad de 2x2.\n",
        "print( d)           # Imprime \"[[ 1.  0.]\n",
        "                                           #          [ 0.  1.]]\""
      ]
    },
    {
      "cell_type": "code",
      "execution_count": 43,
      "metadata": {},
      "outputs": [
        {
          "name": "stdout",
          "output_type": "stream",
          "text": [
            "Array de una secuencia lineal [ 0  2  4  6  8 10 12 14 16 18 20]\n"
          ]
        }
      ],
      "source": [
        "e = np.arange(0, 21, 2)                    # Creación de un vector lleno de una secuencia lineal\n",
        "print(\"Array de una secuencia lineal\" ,e)  # que comience en 0, finalice en 18, con paso 2."
      ]
    },
    {
      "cell_type": "code",
      "execution_count": 48,
      "metadata": {},
      "outputs": [
        {
          "name": "stdout",
          "output_type": "stream",
          "text": [
            "[  0.           1.01010101   2.02020202   3.03030303   4.04040404\n",
            "   5.05050505   6.06060606   7.07070707   8.08080808   9.09090909\n",
            "  10.1010101   11.11111111  12.12121212  13.13131313  14.14141414\n",
            "  15.15151515  16.16161616  17.17171717  18.18181818  19.19191919\n",
            "  20.2020202   21.21212121  22.22222222  23.23232323  24.24242424\n",
            "  25.25252525  26.26262626  27.27272727  28.28282828  29.29292929\n",
            "  30.3030303   31.31313131  32.32323232  33.33333333  34.34343434\n",
            "  35.35353535  36.36363636  37.37373737  38.38383838  39.39393939\n",
            "  40.4040404   41.41414141  42.42424242  43.43434343  44.44444444\n",
            "  45.45454545  46.46464646  47.47474747  48.48484848  49.49494949\n",
            "  50.50505051  51.51515152  52.52525253  53.53535354  54.54545455\n",
            "  55.55555556  56.56565657  57.57575758  58.58585859  59.5959596\n",
            "  60.60606061  61.61616162  62.62626263  63.63636364  64.64646465\n",
            "  65.65656566  66.66666667  67.67676768  68.68686869  69.6969697\n",
            "  70.70707071  71.71717172  72.72727273  73.73737374  74.74747475\n",
            "  75.75757576  76.76767677  77.77777778  78.78787879  79.7979798\n",
            "  80.80808081  81.81818182  82.82828283  83.83838384  84.84848485\n",
            "  85.85858586  86.86868687  87.87878788  88.88888889  89.8989899\n",
            "  90.90909091  91.91919192  92.92929293  93.93939394  94.94949495\n",
            "  95.95959596  96.96969697  97.97979798  98.98989899 100.        ]\n"
          ]
        }
      ],
      "source": [
        "f = np.linspace(0, 100, 100)                   # Crea un vector de cinco valores espaciados \n",
        "print(f)  # uniformemente entre 0 y 1.   "
      ]
    },
    {
      "cell_type": "code",
      "execution_count": 54,
      "metadata": {},
      "outputs": [
        {
          "name": "stdout",
          "output_type": "stream",
          "text": [
            "Array de números aleatorios(u) [[0.02595319 0.66458752 0.37555138]\n",
            " [0.91748052 0.15592227 0.10975179]\n",
            " [0.66740188 0.01305539 0.23805828]]\n"
          ]
        }
      ],
      "source": [
        "g = np.random.random((3,3))                # Creación de una matriz de 2x2 de valores aleatorios.\n",
        "print(\"Array de números aleatorios(u)\", g) # distribuidos uniformemente."
      ]
    },
    {
      "cell_type": "code",
      "execution_count": 53,
      "metadata": {},
      "outputs": [
        {
          "name": "stdout",
          "output_type": "stream",
          "text": [
            "Array de números aleatorios(n) [[-0.75465054  0.46062163 -0.31232897]\n",
            " [-0.13289336  0.4053168  -2.06098717]\n",
            " [ 0.78937484 -0.89234979  1.17460908]]\n"
          ]
        }
      ],
      "source": [
        "h = np.random.normal(0, 1, (3, 3))         # Creación una matriz 3x3 de valores aleatorios normalmente \n",
        "print(\"Array de números aleatorios(n)\", h) # distribuidos con media 0 y desviación estándar 1."
      ]
    },
    {
      "cell_type": "code",
      "execution_count": 71,
      "metadata": {
        "colab": {
          "base_uri": "https://localhost:8080/"
        },
        "id": "L7eVO2EyyOog",
        "outputId": "e77be0d2-7a3d-4d0c-9b84-40b7ba69a55e"
      },
      "outputs": [
        {
          "name": "stdout",
          "output_type": "stream",
          "text": [
            "Array de números aleatorios(i) [[1 0 1]\n",
            " [0 0 1]\n",
            " [1 0 1]]\n"
          ]
        }
      ],
      "source": [
        "\n",
        "\n",
        "\n",
        "\n",
        "i = np.random.randint(0, 2, (3, 3))       # Creación de una matriz 3x3 de números enteros aleatorios\n",
        "print(\"Array de números aleatorios(i)\",i)  # en el intervalo [0,10)\n"
      ]
    },
    {
      "cell_type": "code",
      "execution_count": null,
      "metadata": {
        "colab": {
          "base_uri": "https://localhost:8080/"
        },
        "id": "vb3BZ2qcOZx3",
        "outputId": "d2d6c300-b860-4bb7-ffec-e88fb8a56e15"
      },
      "outputs": [],
      "source": [
        "\n",
        "f.shape"
      ]
    },
    {
      "cell_type": "markdown",
      "metadata": {
        "id": "ogbDmLcJ4Ki3"
      },
      "source": [
        "# Atributos de un array\n",
        "\n",
        "Existen varios atributos y funciones que describen las características de un array."
      ]
    },
    {
      "cell_type": "markdown",
      "metadata": {
        "id": "1uLUWcl24RiU"
      },
      "source": [
        "a.ndim : Devuelve el número de dimensiones del array a.\n",
        "\n",
        "a.shape : Devuelve una tupla con las dimensiones del array a.\n",
        "\n",
        "a.size : Devuelve el número de elementos del array a.\n",
        "\n",
        "a.dtype: Devuelve el tipo de datos de los elementos del array a."
      ]
    },
    {
      "cell_type": "code",
      "execution_count": 72,
      "metadata": {
        "id": "YQNhN70eJ9C-"
      },
      "outputs": [],
      "source": [
        "vector = np.array([2,5,6.3,8,9,7.2])"
      ]
    },
    {
      "cell_type": "code",
      "execution_count": 73,
      "metadata": {
        "colab": {
          "base_uri": "https://localhost:8080/"
        },
        "id": "9YLUF7XFKETR",
        "outputId": "e786ec3f-0acb-4b26-9dd5-9e833dd6ba1e"
      },
      "outputs": [
        {
          "data": {
            "text/plain": [
              "1"
            ]
          },
          "execution_count": 73,
          "metadata": {},
          "output_type": "execute_result"
        }
      ],
      "source": [
        "vector.ndim"
      ]
    },
    {
      "cell_type": "code",
      "execution_count": 74,
      "metadata": {
        "colab": {
          "base_uri": "https://localhost:8080/"
        },
        "id": "2kpmoGpgKNPY",
        "outputId": "40c5dda2-acc3-49f2-e7bc-924f23c460cc"
      },
      "outputs": [
        {
          "data": {
            "text/plain": [
              "(6,)"
            ]
          },
          "execution_count": 74,
          "metadata": {},
          "output_type": "execute_result"
        }
      ],
      "source": [
        "vector.shape"
      ]
    },
    {
      "cell_type": "code",
      "execution_count": 75,
      "metadata": {
        "id": "0onl0cCyKVn_"
      },
      "outputs": [
        {
          "data": {
            "text/plain": [
              "6"
            ]
          },
          "execution_count": 75,
          "metadata": {},
          "output_type": "execute_result"
        }
      ],
      "source": [
        "vector.size"
      ]
    },
    {
      "cell_type": "code",
      "execution_count": 76,
      "metadata": {
        "colab": {
          "base_uri": "https://localhost:8080/"
        },
        "id": "vmrNFuxRKaiv",
        "outputId": "00b1ca92-50e2-4bd6-dd09-c2298a9bb7b7"
      },
      "outputs": [
        {
          "data": {
            "text/plain": [
              "dtype('float64')"
            ]
          },
          "execution_count": 76,
          "metadata": {},
          "output_type": "execute_result"
        }
      ],
      "source": [
        "vector.dtype"
      ]
    },
    {
      "cell_type": "markdown",
      "metadata": {
        "id": "XViu0jCW5V6v"
      },
      "source": [
        "# Acceso a los elementos de un array\n",
        "\n",
        "Para acceder a los elementos contenidos en un array se usan índices al igual que para acceder a los elementos de una lista, pero indicando los índices de cada dimensión separados por comas."
      ]
    },
    {
      "cell_type": "code",
      "execution_count": 79,
      "metadata": {
        "colab": {
          "base_uri": "https://localhost:8080/"
        },
        "id": "B27HnN7q5RC9",
        "outputId": "b4eb7c70-46b5-4d55-ecb4-26b5f5370cc6"
      },
      "outputs": [
        {
          "name": "stdout",
          "output_type": "stream",
          "text": [
            "[[1 2 3]\n",
            " [4 5 6]]\n",
            "4\n",
            "5\n",
            "[[1 2]\n",
            " [4 5]]\n"
          ]
        }
      ],
      "source": [
        "a = np.array([[1, 2, 3], [4, 5, 6]])\n",
        "print(a)\n",
        "print(a[1, 0])  # Acceso al elemento de la fila 1 columna 0\n",
        "4\n",
        "print(a[1][1])  # Otra forma de acceder al mismo elemento\n",
        "4\n",
        "print(a[:, 0:2])\n"
      ]
    },
    {
      "cell_type": "markdown",
      "metadata": {
        "id": "5UfmEZt-ybWo"
      },
      "source": [
        "<p><a name=\"dataType\"></a></p>\n",
        "\n",
        "## 2.2. Tipos de datos."
      ]
    },
    {
      "cell_type": "markdown",
      "metadata": {
        "id": "eXb2wqOzyeDq"
      },
      "source": [
        "[[Contenidos]](#contents)\n",
        "\n",
        "Los arrays en NumPy contienen valores de un solo tipo, por lo que es importante tener conocimiento de esos tipos y sus limitaciones. En numpy, los elementos de un array  por defecto son floats de 64 bits, es decir, que cada float ocupa 8 bytes en memoria. Vemos esto en el siguiente ejemplo"
      ]
    },
    {
      "cell_type": "code",
      "execution_count": 80,
      "metadata": {
        "colab": {
          "base_uri": "https://localhost:8080/"
        },
        "id": "AamwFdBgygqI",
        "outputId": "edd921b2-cdd6-4ce8-e334-676944f3b059"
      },
      "outputs": [
        {
          "name": "stdout",
          "output_type": "stream",
          "text": [
            "[0.]\n",
            "Tipo de dato almacenado en un elemento del array: <class 'numpy.float64'>\n",
            "Bytes almacenados en el array: 8 bytes\n"
          ]
        }
      ],
      "source": [
        "n = np.zeros((1))\n",
        "print(n)\n",
        "print(\"Tipo de dato almacenado en un elemento del array:\", type(n[0]))\n",
        "print(\"Bytes almacenados en el array: %d bytes\" % (n.size * n.itemsize))"
      ]
    },
    {
      "cell_type": "markdown",
      "metadata": {
        "id": "HIxFPxqHyjWP"
      },
      "source": [
        "El tipo por defecto de cada elemento del array es `float64`, que ocupan 8 bytes de memoria. Si se quiere cambiar el tipo por defecto, se debe acceder mediante `dtype=np.` y el nombre del tipo deseado, por ejemplo:"
      ]
    },
    {
      "cell_type": "code",
      "execution_count": 81,
      "metadata": {
        "colab": {
          "base_uri": "https://localhost:8080/"
        },
        "id": "40JC1tm3yqdK",
        "outputId": "942e8ea8-5eb5-4df1-8a08-32580d27a20d"
      },
      "outputs": [
        {
          "name": "stdout",
          "output_type": "stream",
          "text": [
            "Tipo de dato almacenado en un elemento del array: <class 'numpy.int8'>\n",
            "Bytes almacenados en el array: 1 bytes\n"
          ]
        }
      ],
      "source": [
        "# Definición de un array de enteros de 8 bits\n",
        "n = np.zeros((1), dtype = np.int8)\n",
        "print(\"Tipo de dato almacenado en un elemento del array:\", type(n[0]))\n",
        "print(\"Bytes almacenados en el array: %d bytes\" % (n.size * n.itemsize))"
      ]
    },
    {
      "cell_type": "markdown",
      "metadata": {
        "id": "bkyYcHKvQPXs"
      },
      "source": [
        "Defina un array de 6x6x6 de floats de 64 bits. Determine cual será la reserva de memoria en bytes necesaria para definir el array y corrobórelo mediante funciones de numpy. "
      ]
    },
    {
      "cell_type": "code",
      "execution_count": 82,
      "metadata": {
        "id": "pLtDgYKVQb6T"
      },
      "outputs": [],
      "source": [
        "a = np.zeros((6,6,6))\n"
      ]
    },
    {
      "cell_type": "code",
      "execution_count": 83,
      "metadata": {
        "colab": {
          "base_uri": "https://localhost:8080/"
        },
        "id": "aJXkuJeRQvNB",
        "outputId": "1c51319a-bd94-4c60-d3ca-122864040e25"
      },
      "outputs": [
        {
          "name": "stdout",
          "output_type": "stream",
          "text": [
            "Cantidad de memoria necesaria para definir el array 1728 Bytes\n"
          ]
        }
      ],
      "source": [
        "print(\"Cantidad de memoria necesaria para definir el array\", 8*6*6*6, \"Bytes\")"
      ]
    },
    {
      "cell_type": "code",
      "execution_count": 84,
      "metadata": {
        "colab": {
          "base_uri": "https://localhost:8080/"
        },
        "id": "k2e40a1DRIqN",
        "outputId": "4807a75b-0266-45aa-8c83-cde1e06fb03c"
      },
      "outputs": [
        {
          "name": "stdout",
          "output_type": "stream",
          "text": [
            "Bytes almacenados en elarray:  1728\n"
          ]
        }
      ],
      "source": [
        "print(\"Bytes almacenados en elarray: \" ,(a.size * a.itemsize))"
      ]
    },
    {
      "cell_type": "markdown",
      "metadata": {
        "id": "tUlDXtJWRvM1"
      },
      "source": []
    },
    {
      "cell_type": "code",
      "execution_count": 2,
      "metadata": {
        "id": "_bcklvDmRwBd"
      },
      "outputs": [],
      "source": [
        "import matplotlib.pyplot as plt\n",
        "import numpy as np  "
      ]
    },
    {
      "cell_type": "code",
      "execution_count": 12,
      "metadata": {
        "colab": {
          "base_uri": "https://localhost:8080/",
          "height": 284
        },
        "id": "7naLw3u1SBGP",
        "outputId": "8b14c4e0-d53d-4f04-852a-ebb78dcc0bdb"
      },
      "outputs": [
        {
          "name": "stdout",
          "output_type": "stream",
          "text": [
            "[-10.         -9.9979998  -9.9959996 ...   9.9959996   9.9979998\n",
            "  10.       ]\n",
            "[-0.83907153 -0.840158   -0.84124111 ... -0.84124111 -0.840158\n",
            " -0.83907153]\n"
          ]
        },
        {
          "data": {
            "text/plain": [
              "[<matplotlib.lines.Line2D at 0x20940870170>]"
            ]
          },
          "execution_count": 12,
          "metadata": {},
          "output_type": "execute_result"
        },
        {
          "data": {
            "image/png": "[encoded data removed]",
            "text/plain": [
              "<Figure size 640x480 with 1 Axes>"
            ]
          },
          "metadata": {},
          "output_type": "display_data"
        }
      ],
      "source": [
        "# Generar una secuencia de100 numeros entre -10 y 10\n",
        "x = np.linspace(-10, 10, 10000)\n",
        "print(x)\n",
        "# Creamos unarreglo con seno deestos numeros\n",
        "y = np.cos(x)\n",
        "print(y)\n",
        "#Generamos una grafica con x vs y\n",
        "plt.plot(x, y, marker = \"x\")"
      ]
    },
    {
      "cell_type": "code",
      "execution_count": 14,
      "metadata": {
        "colab": {
          "base_uri": "https://localhost:8080/",
          "height": 295
        },
        "id": "_DR1znVnTDMN",
        "outputId": "7cd5d917-3a8f-48b2-90c5-f1a3c849e1aa"
      },
      "outputs": [
        {
          "data": {
            "image/png": "[encoded data removed]",
            "text/plain": [
              "<Figure size 640x480 with 1 Axes>"
            ]
          },
          "metadata": {},
          "output_type": "display_data"
        }
      ],
      "source": [
        "import numpy as np\n",
        "import matplotlib.pyplot as plt\n",
        "from numpy import pi, sin, cos\n",
        "\n",
        "#Coordenadas  x y de las graficas para las funciones seno y coseno \n",
        "x = np.arange(0,3*pi, 0.1)\n",
        "y_sen = sin(x)\n",
        "y_cos = cos(x)\n",
        "\n",
        "# grafica de los puntos usando matplotlib\n",
        "plt.plot(x, y_sen)\n",
        "plt.plot(x, y_cos)\n",
        "plt.xlabel('label deleje x')\n",
        "plt.ylabel('label del eje y')\n",
        "plt.title('Funciones seno y coseno')\n",
        "plt.legend(['Seno','coseno'])\n",
        "plt.show()\n",
        "\n"
      ]
    },
    {
      "cell_type": "markdown",
      "metadata": {
        "id": "6qAPLpvVW9y1"
      },
      "source": [
        "# Taller numpy"
      ]
    },
    {
      "cell_type": "markdown",
      "metadata": {
        "id": "mPVXEo3vXCjc"
      },
      "source": [
        "# Pregunta #1:\n",
        "Cree una matriz m de 5 x 5 partiendo de una array unidimensional entre valores enteros negativos y positivos, estos no deben repetirse."
      ]
    },
    {
      "cell_type": "code",
      "execution_count": null,
      "metadata": {
        "id": "ro5Kkf_mXCEU"
      },
      "outputs": [],
      "source": [
        "#escriba aca su codigo\n",
        "valores = np.arange(-25, 26)\n",
        "\n",
        "matriz = np.zeros((5, 5), dtype=int)\n",
        "index = 0\n",
        "\n",
        "for i in range(5):\n",
        "    for j in range(5):\n",
        "        matriz[i, j] = valores[index]\n",
        "        index += 1\n",
        "\n",
        "print(matriz)\n"
      ]
    },
    {
      "cell_type": "code",
      "execution_count": null,
      "metadata": {},
      "outputs": [],
      "source": [
        "import random\n",
        "\n",
        "numero_aleatorio = random.randint(2, 39)\n",
        "\n",
        "print(numero_aleatorio)\n"
      ]
    },
    {
      "cell_type": "markdown",
      "metadata": {
        "id": "KyLr9CHDXQPo"
      },
      "source": [
        "# Pregunta#2\n",
        "Multiplique y sume a la matriz m un escalar entero positivo. Imprima de forma directa la matriz y cree una estructura de control ciclica que la imprima."
      ]
    },
    {
      "cell_type": "code",
      "execution_count": null,
      "metadata": {
        "id": "zs-qhISaXcfn"
      },
      "outputs": [],
      "source": [
        "#escriba aca su codigo\n",
        "\n",
        "matriz = np.random.randint(-25, 26, (5, 5))\n",
        "\n",
        "\n",
        "escalar = 2\n",
        "\n",
        "m = matriz * escalar\n",
        "\n",
        "print(\"Matriz multiplicada por\", escalar, \"de forma directa:\")\n",
        "print(m)\n",
        "\n",
        "print(\"\\nMatriz multiplicada por\", escalar, \"con un bucle for:\")\n",
        "for i in range(5):\n",
        "    print(matriz_resultante[i])\n",
        "    print()\n"
      ]
    },
    {
      "cell_type": "markdown",
      "metadata": {
        "id": "PWwQwmOOXemG"
      },
      "source": [
        "# Pregunta#3\n",
        "Cree una nueva matriz n a partir de la matriz m e imprima los valores que satisfacen la condicion x > 15."
      ]
    },
    {
      "cell_type": "code",
      "execution_count": null,
      "metadata": {
        "id": "NnECm7bZaQkD"
      },
      "outputs": [],
      "source": [
        "#escriba aca su codigo\n",
        "\n",
        "n = m[m > 15]\n",
        "\n",
        "print(n)"
      ]
    }
  ],
  "metadata": {
    "colab": {
      "collapsed_sections": [],
      "name": "Clase6Numpy.ipynb",
      "provenance": []
    },
    "kernelspec": {
      "display_name": "Python 3",
      "name": "python3"
    },
    "language_info": {
      "codemirror_mode": {
        "name": "ipython",
        "version": 3
      },
      "file_extension": ".py",
      "mimetype": "text/x-python",
      "name": "python",
      "nbconvert_exporter": "python",
      "pygments_lexer": "ipython3",
      "version": "3.12.5"
    }
  },
  "nbformat": 4,
  "nbformat_minor": 0
}
